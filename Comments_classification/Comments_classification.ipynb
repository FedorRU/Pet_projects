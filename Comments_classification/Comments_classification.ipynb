{
 "cells": [
  {
   "cell_type": "markdown",
   "metadata": {
    "toc": true
   },
   "source": [
    "<h1>Содержание<span class=\"tocSkip\"></span></h1>\n",
    "<div class=\"toc\"><ul class=\"toc-item\"><li><span><a href=\"#Подготовка\" data-toc-modified-id=\"Подготовка-1\"><span class=\"toc-item-num\">1&nbsp;&nbsp;</span>Подготовка</a></span></li><li><span><a href=\"#Обучение\" data-toc-modified-id=\"Обучение-2\"><span class=\"toc-item-num\">2&nbsp;&nbsp;</span>Обучение</a></span></li><li><span><a href=\"#Выводы\" data-toc-modified-id=\"Выводы-3\"><span class=\"toc-item-num\">3&nbsp;&nbsp;</span>Выводы</a></span></li><li><span><a href=\"#Вывод\" data-toc-modified-id=\"Вывод-4\"><span class=\"toc-item-num\">4&nbsp;&nbsp;</span>Вывод</a></span></li></ul></div>"
   ]
  },
  {
   "cell_type": "markdown",
   "metadata": {},
   "source": [
    "# Проект для «Викишоп»"
   ]
  },
  {
   "cell_type": "markdown",
   "metadata": {},
   "source": [
    "Интернет-магазин «Викишоп» запускает новый сервис. Теперь пользователи могут редактировать и дополнять описания товаров, как в вики-сообществах. То есть клиенты предлагают свои правки и комментируют изменения других. Магазину нужен инструмент, который будет искать токсичные комментарии и отправлять их на модерацию. \n",
    "\n",
    "Обучите модель классифицировать комментарии на позитивные и негативные. В вашем распоряжении набор данных с разметкой о токсичности правок.\n",
    "\n",
    "Постройте модель со значением метрики качества *F1* не меньше 0.75. \n",
    "\n",
    "**Инструкция по выполнению проекта**\n",
    "\n",
    "1. Загрузите и подготовьте данные.\n",
    "2. Обучите разные модели. \n",
    "3. Сделайте выводы.\n",
    "\n",
    "Для выполнения проекта применять *BERT* необязательно, но вы можете попробовать.\n",
    "\n",
    "**Описание данных**\n",
    "\n",
    "Данные находятся в файле `toxic_comments.csv`. Столбец *text* в нём содержит текст комментария, а *toxic* — целевой признак."
   ]
  },
  {
   "cell_type": "markdown",
   "metadata": {},
   "source": [
    "## Подготовка"
   ]
  },
  {
   "cell_type": "code",
   "execution_count": 1,
   "metadata": {},
   "outputs": [
    {
     "name": "stderr",
     "output_type": "stream",
     "text": [
      "[nltk_data] Downloading package averaged_perceptron_tagger to\n",
      "[nltk_data]     /home/jovyan/nltk_data...\n",
      "[nltk_data]   Package averaged_perceptron_tagger is already up-to-\n",
      "[nltk_data]       date!\n"
     ]
    }
   ],
   "source": [
    "import numpy as np\n",
    "import pandas as pd\n",
    "import matplotlib\n",
    "import re\n",
    "import matplotlib.pyplot as plt\n",
    "import seaborn as sns\n",
    "from sklearn.metrics import accuracy_score, confusion_matrix, recall_score, precision_score, f1_score\n",
    "from sklearn.pipeline import Pipeline\n",
    "from sklearn.linear_model import LogisticRegression\n",
    "from sklearn.neighbors import KNeighborsClassifier\n",
    "from sklearn.svm import LinearSVC\n",
    "from sklearn.linear_model import RidgeClassifier\n",
    "from sklearn.tree import DecisionTreeClassifier\n",
    "from sklearn.ensemble import RandomForestClassifier\n",
    "from xgboost import XGBClassifier\n",
    "from lightgbm import LGBMClassifier\n",
    "from sklearn.feature_extraction.text import CountVectorizer\n",
    "from sklearn.dummy import DummyClassifier\n",
    "from sklearn.model_selection import GridSearchCV\n",
    "from sklearn.naive_bayes import MultinomialNB\n",
    "from sklearn.model_selection import RepeatedKFold\n",
    "from sklearn.model_selection import RandomizedSearchCV, train_test_split\n",
    "from catboost import CatBoostClassifier\n",
    "import nltk\n",
    "nltk.download('averaged_perceptron_tagger')\n",
    "import spacy\n",
    "from nltk.stem import WordNetLemmatizer \n",
    "from nltk.corpus import stopwords as nltk_stopwords\n",
    "from nltk.corpus import wordnet\n",
    "from sklearn.feature_extraction.text import TfidfVectorizer \n",
    "import time\n",
    "sns.set(style='darkgrid', font_scale=1.4)"
   ]
  },
  {
   "cell_type": "code",
   "execution_count": 2,
   "metadata": {},
   "outputs": [],
   "source": [
    "try:\n",
    "    data = pd.read_csv('https://code.s3.yandex.net/datasets/toxic_comments.csv', index_col=0)\n",
    "except:\n",
    "    data = pd.read_csv('datasets/toxic_comments.csv', index_col=0) "
   ]
  },
  {
   "cell_type": "code",
   "execution_count": 3,
   "metadata": {},
   "outputs": [
    {
     "data": {
      "text/html": [
       "<div>\n",
       "<style scoped>\n",
       "    .dataframe tbody tr th:only-of-type {\n",
       "        vertical-align: middle;\n",
       "    }\n",
       "\n",
       "    .dataframe tbody tr th {\n",
       "        vertical-align: top;\n",
       "    }\n",
       "\n",
       "    .dataframe thead th {\n",
       "        text-align: right;\n",
       "    }\n",
       "</style>\n",
       "<table border=\"1\" class=\"dataframe\">\n",
       "  <thead>\n",
       "    <tr style=\"text-align: right;\">\n",
       "      <th></th>\n",
       "      <th>text</th>\n",
       "      <th>toxic</th>\n",
       "    </tr>\n",
       "  </thead>\n",
       "  <tbody>\n",
       "    <tr>\n",
       "      <th>0</th>\n",
       "      <td>Explanation\\nWhy the edits made under my usern...</td>\n",
       "      <td>0</td>\n",
       "    </tr>\n",
       "    <tr>\n",
       "      <th>1</th>\n",
       "      <td>D'aww! He matches this background colour I'm s...</td>\n",
       "      <td>0</td>\n",
       "    </tr>\n",
       "    <tr>\n",
       "      <th>2</th>\n",
       "      <td>Hey man, I'm really not trying to edit war. It...</td>\n",
       "      <td>0</td>\n",
       "    </tr>\n",
       "    <tr>\n",
       "      <th>3</th>\n",
       "      <td>\"\\nMore\\nI can't make any real suggestions on ...</td>\n",
       "      <td>0</td>\n",
       "    </tr>\n",
       "    <tr>\n",
       "      <th>4</th>\n",
       "      <td>You, sir, are my hero. Any chance you remember...</td>\n",
       "      <td>0</td>\n",
       "    </tr>\n",
       "  </tbody>\n",
       "</table>\n",
       "</div>"
      ],
      "text/plain": [
       "                                                text  toxic\n",
       "0  Explanation\\nWhy the edits made under my usern...      0\n",
       "1  D'aww! He matches this background colour I'm s...      0\n",
       "2  Hey man, I'm really not trying to edit war. It...      0\n",
       "3  \"\\nMore\\nI can't make any real suggestions on ...      0\n",
       "4  You, sir, are my hero. Any chance you remember...      0"
      ]
     },
     "execution_count": 3,
     "metadata": {},
     "output_type": "execute_result"
    }
   ],
   "source": [
    "data.head()"
   ]
  },
  {
   "cell_type": "code",
   "execution_count": 4,
   "metadata": {},
   "outputs": [
    {
     "data": {
      "text/plain": [
       "0"
      ]
     },
     "execution_count": 4,
     "metadata": {},
     "output_type": "execute_result"
    }
   ],
   "source": [
    "data.duplicated().sum()"
   ]
  },
  {
   "cell_type": "code",
   "execution_count": 5,
   "metadata": {},
   "outputs": [
    {
     "data": {
      "image/png": "[encoded data removed]",
      "text/plain": [
       "<Figure size 432x288 with 1 Axes>"
      ]
     },
     "metadata": {},
     "output_type": "display_data"
    }
   ],
   "source": [
    "data['toxic'].value_counts().plot.pie(explode=[0.1,0.1], autopct='%1.1f%%', shadow=True,\n",
    "                                             textprops={'fontsize':16}).set_title(\"Распределение целевого признака\");"
   ]
  },
  {
   "cell_type": "markdown",
   "metadata": {},
   "source": [
    "Имеем большой дисбаланс классов"
   ]
  },
  {
   "cell_type": "code",
   "execution_count": 6,
   "metadata": {},
   "outputs": [
    {
     "data": {
      "image/png": "[encoded data removed]",
      "text/plain": [
       "<Figure size 1080x576 with 1 Axes>"
      ]
     },
     "metadata": {},
     "output_type": "display_data"
    }
   ],
   "source": [
    "plt.figure(figsize=(15,8))\n",
    "data['length'] = data['text'].apply(len)\n",
    "ax = sns.histplot(data=data, x='length', hue='toxic', kde=True)\n",
    "plt.title('Распределение количества слов в коментарии')\n",
    "plt.ylabel('Количество коментариев')\n",
    "plt.xlabel('Количество слов');"
   ]
  },
  {
   "cell_type": "markdown",
   "metadata": {},
   "source": [
    "Распределение длин коментариев похоже, отличается только их масштаб"
   ]
  },
  {
   "cell_type": "code",
   "execution_count": 7,
   "metadata": {},
   "outputs": [],
   "source": [
    "def get_wordnet_pos(word):\n",
    "    \"\"\"Map POS tag to first character lemmatize() accepts\"\"\"\n",
    "    tag = nltk.pos_tag([word])[0][1][0].upper()\n",
    "    tag_dict = {\"J\": wordnet.ADJ,\n",
    "                \"N\": wordnet.NOUN,\n",
    "                \"V\": wordnet.VERB,\n",
    "                \"R\": wordnet.ADV}\n",
    "    return tag_dict.get(tag, wordnet.NOUN)\n",
    "def lemmatize(text):\n",
    "    m = WordNetLemmatizer()\n",
    "    words = text.split()\n",
    "    words = [m.lemmatize(word.lower(), get_wordnet_pos(word)) for word in words]\n",
    "    return ' '.join(words)    \n",
    "\n",
    "def clear_text(text):\n",
    "    return ' '.join(re.sub(r'[^a-zA-Z]', ' ', text).split()) "
   ]
  },
  {
   "cell_type": "code",
   "execution_count": 8,
   "metadata": {},
   "outputs": [
    {
     "name": "stdout",
     "output_type": "stream",
     "text": [
      "CPU times: user 16min 34s, sys: 1min 48s, total: 18min 22s\n",
      "Wall time: 18min 24s\n"
     ]
    }
   ],
   "source": [
    "%%time\n",
    "data['text_lemm'] = data['text'].apply(lambda x: lemmatize(clear_text(x)))"
   ]
  },
  {
   "cell_type": "code",
   "execution_count": 9,
   "metadata": {
    "scrolled": true
   },
   "outputs": [
    {
     "data": {
      "text/html": [
       "<div>\n",
       "<style scoped>\n",
       "    .dataframe tbody tr th:only-of-type {\n",
       "        vertical-align: middle;\n",
       "    }\n",
       "\n",
       "    .dataframe tbody tr th {\n",
       "        vertical-align: top;\n",
       "    }\n",
       "\n",
       "    .dataframe thead th {\n",
       "        text-align: right;\n",
       "    }\n",
       "</style>\n",
       "<table border=\"1\" class=\"dataframe\">\n",
       "  <thead>\n",
       "    <tr style=\"text-align: right;\">\n",
       "      <th></th>\n",
       "      <th>text</th>\n",
       "      <th>toxic</th>\n",
       "      <th>length</th>\n",
       "      <th>text_lemm</th>\n",
       "    </tr>\n",
       "  </thead>\n",
       "  <tbody>\n",
       "    <tr>\n",
       "      <th>0</th>\n",
       "      <td>Explanation\\nWhy the edits made under my usern...</td>\n",
       "      <td>0</td>\n",
       "      <td>264</td>\n",
       "      <td>explanation why the edits make under my userna...</td>\n",
       "    </tr>\n",
       "    <tr>\n",
       "      <th>1</th>\n",
       "      <td>D'aww! He matches this background colour I'm s...</td>\n",
       "      <td>0</td>\n",
       "      <td>112</td>\n",
       "      <td>d aww he match this background colour i m seem...</td>\n",
       "    </tr>\n",
       "    <tr>\n",
       "      <th>2</th>\n",
       "      <td>Hey man, I'm really not trying to edit war. It...</td>\n",
       "      <td>0</td>\n",
       "      <td>233</td>\n",
       "      <td>hey man i m really not try to edit war it s ju...</td>\n",
       "    </tr>\n",
       "    <tr>\n",
       "      <th>3</th>\n",
       "      <td>\"\\nMore\\nI can't make any real suggestions on ...</td>\n",
       "      <td>0</td>\n",
       "      <td>622</td>\n",
       "      <td>more i can t make any real suggestion on impro...</td>\n",
       "    </tr>\n",
       "    <tr>\n",
       "      <th>4</th>\n",
       "      <td>You, sir, are my hero. Any chance you remember...</td>\n",
       "      <td>0</td>\n",
       "      <td>67</td>\n",
       "      <td>you sir be my hero any chance you remember wha...</td>\n",
       "    </tr>\n",
       "  </tbody>\n",
       "</table>\n",
       "</div>"
      ],
      "text/plain": [
       "                                                text  toxic  length  \\\n",
       "0  Explanation\\nWhy the edits made under my usern...      0     264   \n",
       "1  D'aww! He matches this background colour I'm s...      0     112   \n",
       "2  Hey man, I'm really not trying to edit war. It...      0     233   \n",
       "3  \"\\nMore\\nI can't make any real suggestions on ...      0     622   \n",
       "4  You, sir, are my hero. Any chance you remember...      0      67   \n",
       "\n",
       "                                           text_lemm  \n",
       "0  explanation why the edits make under my userna...  \n",
       "1  d aww he match this background colour i m seem...  \n",
       "2  hey man i m really not try to edit war it s ju...  \n",
       "3  more i can t make any real suggestion on impro...  \n",
       "4  you sir be my hero any chance you remember wha...  "
      ]
     },
     "execution_count": 9,
     "metadata": {},
     "output_type": "execute_result"
    }
   ],
   "source": [
    "data.head()"
   ]
  },
  {
   "cell_type": "code",
   "execution_count": 10,
   "metadata": {},
   "outputs": [],
   "source": [
    "X=data['text_lemm']\n",
    "y=data['toxic']\n",
    "X_train, X_test, y_train, y_test=train_test_split(X,y,test_size= 0.25, random_state= 42)"
   ]
  },
  {
   "cell_type": "markdown",
   "metadata": {},
   "source": [
    "## Обучение"
   ]
  },
  {
   "cell_type": "code",
   "execution_count": 11,
   "metadata": {},
   "outputs": [],
   "source": [
    "models = {\n",
    "    #\"LGBM\" : LGBMClassifier(random_state=42),\n",
    "    \"Ridge\": RidgeClassifier(random_state=42),\n",
    "    \"NB\": MultinomialNB(), \n",
    "    \"SVC\": LinearSVC(),\n",
    "    \"LogisticRegression\" : LogisticRegression(random_state=42),\n",
    "    \"RandomForest\" : RandomForestClassifier(random_state=42)\n",
    "}\n",
    "LR_grid = {'model__C': [1e-5, 1e-3, 1e-1, 1e0, 1e1],\n",
    "          'model__solver': ['sag'],\n",
    "           'model__multi_class': ['multinomial'],\n",
    "          'model__max_iter': [10000],\n",
    "          'model__penalty': ['l2']}\n",
    "\n",
    "NB_grid = {'model__alpha': (1, 0.1, 0.01, 0.001, 0.0001, 0.00001)}  \n",
    "\n",
    "KNN_grid = {'model__n_neighbors': [3, 5, 7, 9],\n",
    "            'model__p': [1, 2]}\n",
    "\n",
    "SVC_grid = {'model__C': [0.25, 0.5, 0.75, 1, 1.25, 1.5]}\n",
    "\n",
    "RF_grid = {'model__n_estimators': [50, 80, 100],\n",
    "        'model__max_depth': [4, 6, 8, 10, 12]}\n",
    "\n",
    "boosted_grid = {\n",
    "        'model__max_depth': [4, 6, 8, 10],\n",
    "        'model__learning_rate': [0.05, 0.1, 0.15]}\n",
    "Ridge_grid = {'model__alpha':[200, 230, 250, 270, 290, 300]}\n",
    "grid = {\n",
    "    \"LogisticRegression\" : LR_grid,\n",
    "    \"KNN\" : KNN_grid,\n",
    "    \"SVC\" : SVC_grid,\n",
    "    \"RandomForest\" : RF_grid,\n",
    "    \"LGBM\" : boosted_grid,\n",
    "    \"CatBoost\" : boosted_grid,\n",
    "    \"Ridge\": Ridge_grid,\n",
    "    \"NB\": NB_grid\n",
    "}"
   ]
  },
  {
   "cell_type": "code",
   "execution_count": 12,
   "metadata": {},
   "outputs": [],
   "source": [
    "def pipeline(X_train, y_train):\n",
    "    i=0\n",
    "    model_best_params=models.copy()\n",
    "    model_best_estimator=models.copy()\n",
    "    valid_scores=pd.DataFrame({'Model':models.keys(), 'F1': np.zeros(len(models)), 'Training time': np.zeros(len(models))})\n",
    "    for key, model in models.items():\n",
    "        pipeline = Pipeline([( \"vectorizer\" , TfidfVectorizer(stop_words=set(nltk_stopwords.words('english'))\n",
    "                                                          , max_features=10000, analyzer='word'))\n",
    "                             ,('model', model)])\n",
    "        model = RandomizedSearchCV(estimator=pipeline, param_distributions=grid[key], n_jobs=-1,\n",
    "                                 cv=3, scoring='f1', verbose=2)\n",
    "        start = time.time()\n",
    "\n",
    "        model.fit(X_train, y_train)\n",
    "        valid_scores.iloc[i,1]=model.best_score_\n",
    "\n",
    "        model_best_params[key]=model.best_params_\n",
    "        model_best_estimator[key]=model.best_estimator_ \n",
    "        \n",
    "        stop = time.time()\n",
    "        valid_scores.iloc[i,2]=np.round((stop - start)/60, 2)\n",
    "\n",
    "        print('Model:', key)\n",
    "        print('Training time (mins):', valid_scores.iloc[i,2])\n",
    "        print('')\n",
    "        i+=1\n",
    "    return valid_scores, model_best_params, model_best_estimator  "
   ]
  },
  {
   "cell_type": "code",
   "execution_count": 14,
   "metadata": {
    "collapsed": true
   },
   "outputs": [
    {
     "name": "stderr",
     "output_type": "stream",
     "text": [
      "/opt/conda/lib/python3.9/site-packages/sklearn/model_selection/_search.py:285: UserWarning: The total space of parameters 6 is smaller than n_iter=10. Running 6 iterations. For exhaustive searches, use GridSearchCV.\n",
      "  warnings.warn(\n"
     ]
    },
    {
     "name": "stdout",
     "output_type": "stream",
     "text": [
      "Fitting 3 folds for each of 6 candidates, totalling 18 fits\n",
      "[CV] END ...................................model__alpha=200; total time=   5.0s\n",
      "[CV] END ...................................model__alpha=200; total time=   5.2s\n",
      "[CV] END ...................................model__alpha=200; total time=   5.7s\n",
      "[CV] END ...................................model__alpha=230; total time=   5.1s\n",
      "[CV] END ...................................model__alpha=230; total time=   5.0s\n",
      "[CV] END ...................................model__alpha=230; total time=   5.0s\n",
      "[CV] END ...................................model__alpha=250; total time=   5.0s\n",
      "[CV] END ...................................model__alpha=250; total time=   5.3s\n",
      "[CV] END ...................................model__alpha=250; total time=   4.9s\n",
      "[CV] END ...................................model__alpha=270; total time=   5.0s\n",
      "[CV] END ...................................model__alpha=270; total time=   5.0s\n",
      "[CV] END ...................................model__alpha=270; total time=   5.2s\n",
      "[CV] END ...................................model__alpha=290; total time=   5.0s\n",
      "[CV] END ...................................model__alpha=290; total time=   5.2s\n",
      "[CV] END ...................................model__alpha=290; total time=   5.4s\n",
      "[CV] END ...................................model__alpha=300; total time=   5.1s\n",
      "[CV] END ...................................model__alpha=300; total time=   5.0s\n",
      "[CV] END ...................................model__alpha=300; total time=   4.9s\n",
      "Model: Ridge\n",
      "Training time (mins): 1.63\n",
      "\n",
      "Fitting 3 folds for each of 6 candidates, totalling 18 fits\n"
     ]
    },
    {
     "name": "stderr",
     "output_type": "stream",
     "text": [
      "/opt/conda/lib/python3.9/site-packages/sklearn/model_selection/_search.py:285: UserWarning: The total space of parameters 6 is smaller than n_iter=10. Running 6 iterations. For exhaustive searches, use GridSearchCV.\n",
      "  warnings.warn(\n"
     ]
    },
    {
     "name": "stdout",
     "output_type": "stream",
     "text": [
      "[CV] END .....................................model__alpha=1; total time=   5.0s\n",
      "[CV] END .....................................model__alpha=1; total time=   4.9s\n",
      "[CV] END .....................................model__alpha=1; total time=   5.0s\n",
      "[CV] END ...................................model__alpha=0.1; total time=   5.6s\n",
      "[CV] END ...................................model__alpha=0.1; total time=   5.9s\n",
      "[CV] END ...................................model__alpha=0.1; total time=   5.8s\n",
      "[CV] END ..................................model__alpha=0.01; total time=   5.8s\n",
      "[CV] END ..................................model__alpha=0.01; total time=   5.1s\n",
      "[CV] END ..................................model__alpha=0.01; total time=   4.9s\n",
      "[CV] END .................................model__alpha=0.001; total time=   4.9s\n",
      "[CV] END .................................model__alpha=0.001; total time=   4.8s\n",
      "[CV] END .................................model__alpha=0.001; total time=   5.2s\n",
      "[CV] END ................................model__alpha=0.0001; total time=   4.7s\n",
      "[CV] END ................................model__alpha=0.0001; total time=   5.0s\n",
      "[CV] END ................................model__alpha=0.0001; total time=   5.2s\n",
      "[CV] END .................................model__alpha=1e-05; total time=   5.1s\n",
      "[CV] END .................................model__alpha=1e-05; total time=   5.0s\n",
      "[CV] END .................................model__alpha=1e-05; total time=   5.0s\n",
      "Model: NB\n",
      "Training time (mins): 1.64\n",
      "\n",
      "Fitting 3 folds for each of 6 candidates, totalling 18 fits\n"
     ]
    },
    {
     "name": "stderr",
     "output_type": "stream",
     "text": [
      "/opt/conda/lib/python3.9/site-packages/sklearn/model_selection/_search.py:285: UserWarning: The total space of parameters 6 is smaller than n_iter=10. Running 6 iterations. For exhaustive searches, use GridSearchCV.\n",
      "  warnings.warn(\n"
     ]
    },
    {
     "name": "stdout",
     "output_type": "stream",
     "text": [
      "[CV] END ......................................model__C=0.25; total time=   5.2s\n",
      "[CV] END ......................................model__C=0.25; total time=   5.4s\n",
      "[CV] END ......................................model__C=0.25; total time=   5.2s\n",
      "[CV] END .......................................model__C=0.5; total time=   5.5s\n",
      "[CV] END .......................................model__C=0.5; total time=   5.6s\n",
      "[CV] END .......................................model__C=0.5; total time=   5.3s\n",
      "[CV] END ......................................model__C=0.75; total time=   5.4s\n",
      "[CV] END ......................................model__C=0.75; total time=   5.5s\n",
      "[CV] END ......................................model__C=0.75; total time=   5.5s\n",
      "[CV] END .........................................model__C=1; total time=   5.6s\n",
      "[CV] END .........................................model__C=1; total time=   6.1s\n",
      "[CV] END .........................................model__C=1; total time=   5.6s\n",
      "[CV] END ......................................model__C=1.25; total time=   5.6s\n",
      "[CV] END ......................................model__C=1.25; total time=   5.8s\n",
      "[CV] END ......................................model__C=1.25; total time=   5.9s\n",
      "[CV] END .......................................model__C=1.5; total time=   5.5s\n",
      "[CV] END .......................................model__C=1.5; total time=   5.8s\n",
      "[CV] END .......................................model__C=1.5; total time=   5.6s\n",
      "Model: SVC\n",
      "Training time (mins): 1.78\n",
      "\n",
      "Fitting 3 folds for each of 5 candidates, totalling 15 fits\n"
     ]
    },
    {
     "name": "stderr",
     "output_type": "stream",
     "text": [
      "/opt/conda/lib/python3.9/site-packages/sklearn/model_selection/_search.py:285: UserWarning: The total space of parameters 5 is smaller than n_iter=10. Running 5 iterations. For exhaustive searches, use GridSearchCV.\n",
      "  warnings.warn(\n"
     ]
    },
    {
     "name": "stdout",
     "output_type": "stream",
     "text": [
      "[CV] END model__C=1e-05, model__max_iter=10000, model__multi_class=multinomial, model__penalty=l2, model__solver=sag; total time=  12.1s\n",
      "[CV] END model__C=1e-05, model__max_iter=10000, model__multi_class=multinomial, model__penalty=l2, model__solver=sag; total time=  11.7s\n",
      "[CV] END model__C=1e-05, model__max_iter=10000, model__multi_class=multinomial, model__penalty=l2, model__solver=sag; total time=  11.8s\n",
      "[CV] END model__C=0.001, model__max_iter=10000, model__multi_class=multinomial, model__penalty=l2, model__solver=sag; total time=   5.9s\n",
      "[CV] END model__C=0.001, model__max_iter=10000, model__multi_class=multinomial, model__penalty=l2, model__solver=sag; total time=   6.0s\n",
      "[CV] END model__C=0.001, model__max_iter=10000, model__multi_class=multinomial, model__penalty=l2, model__solver=sag; total time=   5.9s\n",
      "[CV] END model__C=0.1, model__max_iter=10000, model__multi_class=multinomial, model__penalty=l2, model__solver=sag; total time=   6.0s\n",
      "[CV] END model__C=0.1, model__max_iter=10000, model__multi_class=multinomial, model__penalty=l2, model__solver=sag; total time=   6.0s\n",
      "[CV] END model__C=0.1, model__max_iter=10000, model__multi_class=multinomial, model__penalty=l2, model__solver=sag; total time=   6.5s\n",
      "[CV] END model__C=1.0, model__max_iter=10000, model__multi_class=multinomial, model__penalty=l2, model__solver=sag; total time=   6.4s\n",
      "[CV] END model__C=1.0, model__max_iter=10000, model__multi_class=multinomial, model__penalty=l2, model__solver=sag; total time=   6.4s\n",
      "[CV] END model__C=1.0, model__max_iter=10000, model__multi_class=multinomial, model__penalty=l2, model__solver=sag; total time=   6.2s\n",
      "[CV] END model__C=10.0, model__max_iter=10000, model__multi_class=multinomial, model__penalty=l2, model__solver=sag; total time=   8.4s\n",
      "[CV] END model__C=10.0, model__max_iter=10000, model__multi_class=multinomial, model__penalty=l2, model__solver=sag; total time=   8.0s\n",
      "[CV] END model__C=10.0, model__max_iter=10000, model__multi_class=multinomial, model__penalty=l2, model__solver=sag; total time=   8.3s\n",
      "Model: LogisticRegression\n",
      "Training time (mins): 2.1\n",
      "\n",
      "Fitting 3 folds for each of 10 candidates, totalling 30 fits\n",
      "[CV] END .......model__max_depth=10, model__n_estimators=100; total time=   9.0s\n",
      "[CV] END .......model__max_depth=10, model__n_estimators=100; total time=   8.3s\n",
      "[CV] END .......model__max_depth=10, model__n_estimators=100; total time=   8.5s\n",
      "[CV] END .........model__max_depth=4, model__n_estimators=80; total time=   6.8s\n",
      "[CV] END .........model__max_depth=4, model__n_estimators=80; total time=   6.5s\n",
      "[CV] END .........model__max_depth=4, model__n_estimators=80; total time=   6.5s\n",
      "[CV] END ........model__max_depth=10, model__n_estimators=80; total time=   7.7s\n",
      "[CV] END ........model__max_depth=10, model__n_estimators=80; total time=   7.6s\n",
      "[CV] END ........model__max_depth=10, model__n_estimators=80; total time=   8.2s\n",
      "[CV] END .........model__max_depth=4, model__n_estimators=50; total time=   6.1s\n",
      "[CV] END .........model__max_depth=4, model__n_estimators=50; total time=   5.9s\n",
      "[CV] END .........model__max_depth=4, model__n_estimators=50; total time=   6.0s\n",
      "[CV] END .........model__max_depth=6, model__n_estimators=50; total time=   6.5s\n",
      "[CV] END .........model__max_depth=6, model__n_estimators=50; total time=   6.2s\n",
      "[CV] END .........model__max_depth=6, model__n_estimators=50; total time=   6.3s\n",
      "[CV] END ........model__max_depth=6, model__n_estimators=100; total time=   7.7s\n",
      "[CV] END ........model__max_depth=6, model__n_estimators=100; total time=   7.4s\n",
      "[CV] END ........model__max_depth=6, model__n_estimators=100; total time=   8.0s\n",
      "[CV] END ........model__max_depth=12, model__n_estimators=50; total time=   6.8s\n",
      "[CV] END ........model__max_depth=12, model__n_estimators=50; total time=   6.7s\n",
      "[CV] END ........model__max_depth=12, model__n_estimators=50; total time=   7.1s\n",
      "[CV] END .........model__max_depth=8, model__n_estimators=80; total time=   7.0s\n",
      "[CV] END .........model__max_depth=8, model__n_estimators=80; total time=   7.1s\n",
      "[CV] END .........model__max_depth=8, model__n_estimators=80; total time=   7.2s\n",
      "[CV] END .........model__max_depth=6, model__n_estimators=80; total time=   7.0s\n",
      "[CV] END .........model__max_depth=6, model__n_estimators=80; total time=   7.5s\n",
      "[CV] END .........model__max_depth=6, model__n_estimators=80; total time=   6.9s\n",
      "[CV] END ........model__max_depth=8, model__n_estimators=100; total time=   7.8s\n",
      "[CV] END ........model__max_depth=8, model__n_estimators=100; total time=   8.2s\n",
      "[CV] END ........model__max_depth=8, model__n_estimators=100; total time=   8.2s\n",
      "Model: RandomForest\n",
      "Training time (mins): 3.75\n",
      "\n"
     ]
    }
   ],
   "source": [
    "valid_scores, best_params, best_estimator = pipeline(X_train, y_train)"
   ]
  },
  {
   "cell_type": "code",
   "execution_count": 15,
   "metadata": {},
   "outputs": [
    {
     "data": {
      "text/html": [
       "<div>\n",
       "<style scoped>\n",
       "    .dataframe tbody tr th:only-of-type {\n",
       "        vertical-align: middle;\n",
       "    }\n",
       "\n",
       "    .dataframe tbody tr th {\n",
       "        vertical-align: top;\n",
       "    }\n",
       "\n",
       "    .dataframe thead th {\n",
       "        text-align: right;\n",
       "    }\n",
       "</style>\n",
       "<table border=\"1\" class=\"dataframe\">\n",
       "  <thead>\n",
       "    <tr style=\"text-align: right;\">\n",
       "      <th></th>\n",
       "      <th>Model</th>\n",
       "      <th>F1</th>\n",
       "      <th>Training time</th>\n",
       "    </tr>\n",
       "  </thead>\n",
       "  <tbody>\n",
       "    <tr>\n",
       "      <th>0</th>\n",
       "      <td>Ridge</td>\n",
       "      <td>0.260912</td>\n",
       "      <td>1.63</td>\n",
       "    </tr>\n",
       "    <tr>\n",
       "      <th>1</th>\n",
       "      <td>NB</td>\n",
       "      <td>0.675795</td>\n",
       "      <td>1.64</td>\n",
       "    </tr>\n",
       "    <tr>\n",
       "      <th>2</th>\n",
       "      <td>SVC</td>\n",
       "      <td>0.767023</td>\n",
       "      <td>1.78</td>\n",
       "    </tr>\n",
       "    <tr>\n",
       "      <th>3</th>\n",
       "      <td>LogisticRegression</td>\n",
       "      <td>0.761669</td>\n",
       "      <td>2.10</td>\n",
       "    </tr>\n",
       "    <tr>\n",
       "      <th>4</th>\n",
       "      <td>RandomForest</td>\n",
       "      <td>0.021125</td>\n",
       "      <td>3.75</td>\n",
       "    </tr>\n",
       "  </tbody>\n",
       "</table>\n",
       "</div>"
      ],
      "text/plain": [
       "                Model        F1  Training time\n",
       "0               Ridge  0.260912           1.63\n",
       "1                  NB  0.675795           1.64\n",
       "2                 SVC  0.767023           1.78\n",
       "3  LogisticRegression  0.761669           2.10\n",
       "4        RandomForest  0.021125           3.75"
      ]
     },
     "execution_count": 15,
     "metadata": {},
     "output_type": "execute_result"
    }
   ],
   "source": [
    "valid_scores"
   ]
  },
  {
   "cell_type": "code",
   "execution_count": 16,
   "metadata": {},
   "outputs": [
    {
     "data": {
      "text/plain": [
       "{'Ridge': {'model__alpha': 200},\n",
       " 'NB': {'model__alpha': 0.1},\n",
       " 'SVC': {'model__C': 1},\n",
       " 'LogisticRegression': {'model__solver': 'sag',\n",
       "  'model__penalty': 'l2',\n",
       "  'model__multi_class': 'multinomial',\n",
       "  'model__max_iter': 10000,\n",
       "  'model__C': 10.0},\n",
       " 'RandomForest': {'model__n_estimators': 50, 'model__max_depth': 12}}"
      ]
     },
     "execution_count": 16,
     "metadata": {},
     "output_type": "execute_result"
    }
   ],
   "source": [
    "best_params"
   ]
  },
  {
   "cell_type": "markdown",
   "metadata": {},
   "source": [
    "На валидации лучшее качество у модели LinearSVC"
   ]
  },
  {
   "cell_type": "markdown",
   "metadata": {},
   "source": [
    "## Выводы"
   ]
  },
  {
   "cell_type": "code",
   "execution_count": 17,
   "metadata": {},
   "outputs": [],
   "source": [
    "stopwords = set(nltk_stopwords.words('english'))\n",
    "tfidf=TfidfVectorizer(stop_words=stopwords, max_features=10000, analyzer='word',)\n",
    "X_train=tfidf.fit_transform(X_train)\n",
    "X_test=tfidf.transform(X_test)"
   ]
  },
  {
   "cell_type": "code",
   "execution_count": 18,
   "metadata": {},
   "outputs": [
    {
     "name": "stdout",
     "output_type": "stream",
     "text": [
      "F1: 0.776774552021114\n"
     ]
    }
   ],
   "source": [
    "final_model = LinearSVC(C=1, random_state=42)\n",
    "final_model.fit(X_train, y_train)\n",
    "y_pred = final_model.predict(X_test)\n",
    "print('F1:', f1_score(y_test, y_pred))"
   ]
  },
  {
   "cell_type": "code",
   "execution_count": 19,
   "metadata": {},
   "outputs": [
    {
     "data": {
      "image/png": "[encoded data removed]",
      "text/plain": [
       "<Figure size 432x288 with 2 Axes>"
      ]
     },
     "metadata": {},
     "output_type": "display_data"
    }
   ],
   "source": [
    "cf_matrix = confusion_matrix(y_test, y_pred)\n",
    "plt.figure(figsize=(6,4))\n",
    "ax = sns.heatmap(cf_matrix, annot=True, fmt='d', )\n",
    "ax.set_xlabel(\"Прогоз\", fontsize=14, labelpad=20)\n",
    "ax.xaxis.set_ticklabels(['Negative', 'Positive'])\n",
    "ax.set_ylabel(\"Реальность\", fontsize=14, labelpad=20)\n",
    "ax.yaxis.set_ticklabels(['Negative', 'Positive'])\n",
    "ax.set_title(\"Матрица ошибок\", fontsize=14, pad=20)\n",
    "plt.show()"
   ]
  },
  {
   "cell_type": "code",
   "execution_count": 20,
   "metadata": {},
   "outputs": [
    {
     "name": "stdout",
     "output_type": "stream",
     "text": [
      "F1: 0.18325729927007298\n"
     ]
    }
   ],
   "source": [
    "dummy_cl = DummyClassifier(strategy=\"constant\", constant=1) \n",
    "dummy_cl.fit(X_train, y_train) \n",
    "dummy_pred = dummy_cl.predict(X_test)\n",
    "print(\"F1:\", f1_score(dummy_pred, y_test))"
   ]
  },
  {
   "cell_type": "code",
   "execution_count": 21,
   "metadata": {},
   "outputs": [
    {
     "data": {
      "image/png": "[encoded data removed]",
      "text/plain": [
       "<Figure size 432x288 with 2 Axes>"
      ]
     },
     "metadata": {},
     "output_type": "display_data"
    }
   ],
   "source": [
    "cf_matrix = confusion_matrix(y_test, dummy_pred)\n",
    "plt.figure(figsize=(6,4))\n",
    "ax = sns.heatmap(cf_matrix, annot=True, fmt='d', )\n",
    "ax.set_xlabel(\"Прогоз\", fontsize=14, labelpad=20)\n",
    "ax.xaxis.set_ticklabels(['Negative', 'Positive'])\n",
    "ax.set_ylabel(\"Реальность\", fontsize=14, labelpad=20)\n",
    "ax.yaxis.set_ticklabels(['Negative', 'Positive'])\n",
    "ax.set_title(\"Матрица ошибок\", fontsize=14, pad=20)\n",
    "plt.show()"
   ]
  },
  {
   "cell_type": "markdown",
   "metadata": {},
   "source": [
    "## Вывод"
   ]
  },
  {
   "cell_type": "markdown",
   "metadata": {},
   "source": [
    "Для построения модели классифицикации комментариев на позитивные и негативные, корпус текстов был очищен от посторонних символов и преведен к лемме. Полученные тексты были векторизированы. В распределении таргета имеется большой дисбаланс классов. На кросс-валидации выбрана модель LinearSVC, показавшая наилучшее качество. Значение метрики F1 сотавило 0.78, что выше заданного бейзлайна. "
   ]
  }
 ],
 "metadata": {
  "ExecuteTimeLog": [
   {
    "duration": 2597,
    "start_time": "2023-03-05T07:25:16.665Z"
   },
   {
    "duration": 2459,
    "start_time": "2023-03-05T07:25:58.219Z"
   },
   {
    "duration": 2361,
    "start_time": "2023-03-05T07:26:05.996Z"
   },
   {
    "duration": 21,
    "start_time": "2023-03-05T07:26:12.991Z"
   },
   {
    "duration": 2293,
    "start_time": "2023-03-05T07:27:12.447Z"
   },
   {
    "duration": 14,
    "start_time": "2023-03-05T07:27:15.672Z"
   },
   {
    "duration": 252,
    "start_time": "2023-03-05T07:27:25.472Z"
   },
   {
    "duration": 25,
    "start_time": "2023-03-05T07:28:38.763Z"
   },
   {
    "duration": 2029,
    "start_time": "2023-03-05T07:29:28.476Z"
   },
   {
    "duration": 9,
    "start_time": "2023-03-05T07:29:31.774Z"
   },
   {
    "duration": 4,
    "start_time": "2023-03-05T07:32:00.708Z"
   },
   {
    "duration": 61,
    "start_time": "2023-03-05T07:33:30.607Z"
   },
   {
    "duration": 13,
    "start_time": "2023-03-05T07:33:39.677Z"
   },
   {
    "duration": 1338,
    "start_time": "2023-03-05T07:33:43.709Z"
   },
   {
    "duration": 8,
    "start_time": "2023-03-05T07:33:45.197Z"
   },
   {
    "duration": 3,
    "start_time": "2023-03-05T07:33:46.197Z"
   },
   {
    "duration": 59,
    "start_time": "2023-03-05T07:33:47.073Z"
   },
   {
    "duration": 46,
    "start_time": "2023-03-05T07:34:36.542Z"
   },
   {
    "duration": 92,
    "start_time": "2023-03-05T07:34:40.171Z"
   },
   {
    "duration": 35,
    "start_time": "2023-03-05T07:34:47.353Z"
   },
   {
    "duration": 50,
    "start_time": "2023-03-05T07:35:01.911Z"
   },
   {
    "duration": 44,
    "start_time": "2023-03-05T07:36:43.088Z"
   },
   {
    "duration": 38,
    "start_time": "2023-03-05T07:37:46.562Z"
   },
   {
    "duration": 51,
    "start_time": "2023-03-05T07:39:34.097Z"
   },
   {
    "duration": 38,
    "start_time": "2023-03-05T07:40:13.959Z"
   },
   {
    "duration": 16,
    "start_time": "2023-03-05T07:40:20.113Z"
   },
   {
    "duration": 6615,
    "start_time": "2023-03-05T07:42:26.529Z"
   },
   {
    "duration": 1218,
    "start_time": "2023-03-05T07:42:43.777Z"
   },
   {
    "duration": 37,
    "start_time": "2023-03-05T07:43:05.256Z"
   },
   {
    "duration": 93,
    "start_time": "2023-03-05T07:44:45.540Z"
   },
   {
    "duration": 15,
    "start_time": "2023-03-05T07:44:46.324Z"
   },
   {
    "duration": 93,
    "start_time": "2023-03-05T07:45:18.063Z"
   },
   {
    "duration": 15,
    "start_time": "2023-03-05T07:45:18.875Z"
   },
   {
    "duration": 1175,
    "start_time": "2023-03-05T07:45:29.117Z"
   },
   {
    "duration": 38,
    "start_time": "2023-03-05T07:45:34.624Z"
   },
   {
    "duration": 9,
    "start_time": "2023-03-05T07:47:16.443Z"
   },
   {
    "duration": 9,
    "start_time": "2023-03-05T07:47:42.501Z"
   },
   {
    "duration": 44,
    "start_time": "2023-03-05T07:49:18.103Z"
   },
   {
    "duration": 16,
    "start_time": "2023-03-05T07:49:58.254Z"
   },
   {
    "duration": 21,
    "start_time": "2023-03-05T07:50:55.428Z"
   },
   {
    "duration": 11,
    "start_time": "2023-03-05T07:51:23.342Z"
   },
   {
    "duration": 23,
    "start_time": "2023-03-05T07:55:02.381Z"
   },
   {
    "duration": 18,
    "start_time": "2023-03-05T07:55:13.254Z"
   },
   {
    "duration": 4509,
    "start_time": "2023-03-05T08:20:44.219Z"
   },
   {
    "duration": 251066,
    "start_time": "2023-03-05T08:21:09.966Z"
   },
   {
    "duration": 208,
    "start_time": "2023-03-05T08:27:03.768Z"
   },
   {
    "duration": 10,
    "start_time": "2023-03-05T08:27:23.563Z"
   },
   {
    "duration": 68,
    "start_time": "2023-03-05T08:27:48.767Z"
   },
   {
    "duration": 8278,
    "start_time": "2023-03-05T08:27:51.555Z"
   },
   {
    "duration": 18,
    "start_time": "2023-03-05T08:28:12.405Z"
   },
   {
    "duration": 4679,
    "start_time": "2023-03-05T08:30:32.954Z"
   },
   {
    "duration": 36,
    "start_time": "2023-03-05T08:30:38.822Z"
   },
   {
    "duration": 43,
    "start_time": "2023-03-05T08:32:24.344Z"
   },
   {
    "duration": 6253,
    "start_time": "2023-03-05T08:32:25.251Z"
   },
   {
    "duration": 8,
    "start_time": "2023-03-05T08:32:33.283Z"
   },
   {
    "duration": 58,
    "start_time": "2023-03-05T08:35:40.801Z"
   },
   {
    "duration": 248,
    "start_time": "2023-03-05T08:35:47.721Z"
   },
   {
    "duration": 253,
    "start_time": "2023-03-05T08:36:02.255Z"
   },
   {
    "duration": 35,
    "start_time": "2023-03-05T08:40:06.337Z"
   },
   {
    "duration": 38816,
    "start_time": "2023-03-05T08:40:06.444Z"
   },
   {
    "duration": 9,
    "start_time": "2023-03-05T08:41:22.201Z"
   },
   {
    "duration": 6,
    "start_time": "2023-03-05T08:43:20.672Z"
   },
   {
    "duration": 4383,
    "start_time": "2023-03-05T08:43:46.520Z"
   },
   {
    "duration": 12,
    "start_time": "2023-03-05T08:43:52.467Z"
   },
   {
    "duration": 4522,
    "start_time": "2023-03-05T08:43:58.347Z"
   },
   {
    "duration": 9,
    "start_time": "2023-03-05T08:44:03.927Z"
   },
   {
    "duration": 4,
    "start_time": "2023-03-05T08:44:32.822Z"
   },
   {
    "duration": 4,
    "start_time": "2023-03-05T08:44:46.671Z"
   },
   {
    "duration": 10,
    "start_time": "2023-03-05T08:45:07.314Z"
   },
   {
    "duration": 1632,
    "start_time": "2023-03-05T08:45:59.609Z"
   },
   {
    "duration": 8,
    "start_time": "2023-03-05T08:46:02.060Z"
   },
   {
    "duration": 38,
    "start_time": "2023-03-05T08:46:02.424Z"
   },
   {
    "duration": 35,
    "start_time": "2023-03-05T08:46:03.328Z"
   },
   {
    "duration": 40472,
    "start_time": "2023-03-05T08:46:12.911Z"
   },
   {
    "duration": 9,
    "start_time": "2023-03-05T08:47:14.321Z"
   },
   {
    "duration": 15,
    "start_time": "2023-03-05T08:48:03.073Z"
   },
   {
    "duration": 63,
    "start_time": "2023-03-05T08:59:12.098Z"
   },
   {
    "duration": 31,
    "start_time": "2023-03-05T08:59:37.868Z"
   },
   {
    "duration": 30789,
    "start_time": "2023-03-05T08:59:38.637Z"
   },
   {
    "duration": 8,
    "start_time": "2023-03-05T09:00:15.920Z"
   },
   {
    "duration": 1955,
    "start_time": "2023-03-05T09:03:59.172Z"
   },
   {
    "duration": 2242,
    "start_time": "2023-03-05T09:04:01.129Z"
   },
   {
    "duration": 12,
    "start_time": "2023-03-05T09:04:03.372Z"
   },
   {
    "duration": 41,
    "start_time": "2023-03-05T09:04:03.385Z"
   },
   {
    "duration": 53,
    "start_time": "2023-03-05T09:04:03.429Z"
   },
   {
    "duration": 48789,
    "start_time": "2023-03-05T09:04:03.484Z"
   },
   {
    "duration": 9,
    "start_time": "2023-03-05T09:04:52.275Z"
   },
   {
    "duration": 52,
    "start_time": "2023-03-05T09:06:04.792Z"
   },
   {
    "duration": 1989,
    "start_time": "2023-03-05T09:08:20.289Z"
   },
   {
    "duration": 1638,
    "start_time": "2023-03-05T09:08:22.281Z"
   },
   {
    "duration": 18,
    "start_time": "2023-03-05T09:08:23.925Z"
   },
   {
    "duration": 39,
    "start_time": "2023-03-05T09:08:23.949Z"
   },
   {
    "duration": 33,
    "start_time": "2023-03-05T09:08:23.991Z"
   },
   {
    "duration": 44073,
    "start_time": "2023-03-05T09:08:24.026Z"
   },
   {
    "duration": 10,
    "start_time": "2023-03-05T09:09:08.100Z"
   },
   {
    "duration": 80,
    "start_time": "2023-03-05T09:09:08.113Z"
   },
   {
    "duration": 9017,
    "start_time": "2023-03-05T09:09:08.195Z"
   },
   {
    "duration": 145,
    "start_time": "2023-03-05T09:10:44.366Z"
   },
   {
    "duration": 6,
    "start_time": "2023-03-05T09:10:48.209Z"
   },
   {
    "duration": 1835,
    "start_time": "2023-03-05T09:12:43.113Z"
   },
   {
    "duration": 1473,
    "start_time": "2023-03-05T09:12:44.950Z"
   },
   {
    "duration": 16,
    "start_time": "2023-03-05T09:12:46.426Z"
   },
   {
    "duration": 33,
    "start_time": "2023-03-05T09:12:46.444Z"
   },
   {
    "duration": 33,
    "start_time": "2023-03-05T09:12:46.479Z"
   },
   {
    "duration": 44052,
    "start_time": "2023-03-05T09:12:46.514Z"
   },
   {
    "duration": 11,
    "start_time": "2023-03-05T09:13:30.568Z"
   },
   {
    "duration": 120,
    "start_time": "2023-03-05T09:13:30.581Z"
   },
   {
    "duration": 239,
    "start_time": "2023-03-05T09:13:30.704Z"
   },
   {
    "duration": 0,
    "start_time": "2023-03-05T09:13:30.949Z"
   },
   {
    "duration": 8288,
    "start_time": "2023-03-05T09:14:21.908Z"
   },
   {
    "duration": 35,
    "start_time": "2023-03-05T09:18:25.471Z"
   },
   {
    "duration": 9,
    "start_time": "2023-03-05T09:22:44.164Z"
   },
   {
    "duration": 5,
    "start_time": "2023-03-05T09:24:55.294Z"
   },
   {
    "duration": 24,
    "start_time": "2023-03-05T09:25:07.085Z"
   },
   {
    "duration": 7,
    "start_time": "2023-03-05T09:25:15.004Z"
   },
   {
    "duration": 5,
    "start_time": "2023-03-05T09:25:15.624Z"
   },
   {
    "duration": 19,
    "start_time": "2023-03-05T09:25:16.565Z"
   },
   {
    "duration": 7,
    "start_time": "2023-03-05T09:25:30.298Z"
   },
   {
    "duration": 663685,
    "start_time": "2023-03-05T09:25:34.342Z"
   },
   {
    "duration": 1967,
    "start_time": "2023-03-05T09:52:48.979Z"
   },
   {
    "duration": 2206,
    "start_time": "2023-03-05T09:52:50.948Z"
   },
   {
    "duration": 14,
    "start_time": "2023-03-05T09:52:53.156Z"
   },
   {
    "duration": 44,
    "start_time": "2023-03-05T09:52:53.179Z"
   },
   {
    "duration": 49,
    "start_time": "2023-03-05T09:52:53.226Z"
   },
   {
    "duration": 51715,
    "start_time": "2023-03-05T09:52:53.280Z"
   },
   {
    "duration": 9,
    "start_time": "2023-03-05T09:53:44.997Z"
   },
   {
    "duration": 71,
    "start_time": "2023-03-05T09:53:45.008Z"
   },
   {
    "duration": 8804,
    "start_time": "2023-03-05T09:53:45.081Z"
   },
   {
    "duration": 5,
    "start_time": "2023-03-05T09:53:53.886Z"
   },
   {
    "duration": 77,
    "start_time": "2023-03-05T09:53:53.892Z"
   },
   {
    "duration": 0,
    "start_time": "2023-03-05T09:53:53.972Z"
   },
   {
    "duration": 0,
    "start_time": "2023-03-05T09:53:53.974Z"
   },
   {
    "duration": 10,
    "start_time": "2023-03-05T09:54:05.767Z"
   },
   {
    "duration": 10,
    "start_time": "2023-03-05T09:54:07.643Z"
   },
   {
    "duration": 1059791,
    "start_time": "2023-03-05T09:54:09.073Z"
   },
   {
    "duration": 10,
    "start_time": "2023-03-05T10:12:00.066Z"
   },
   {
    "duration": 6,
    "start_time": "2023-03-05T10:12:00.486Z"
   },
   {
    "duration": 696,
    "start_time": "2023-03-05T10:12:01.186Z"
   },
   {
    "duration": 7,
    "start_time": "2023-03-05T10:12:37.709Z"
   },
   {
    "duration": 15,
    "start_time": "2023-03-05T10:12:38.533Z"
   },
   {
    "duration": 375984,
    "start_time": "2023-03-05T10:12:39.193Z"
   },
   {
    "duration": 32,
    "start_time": "2023-03-05T10:19:00.595Z"
   },
   {
    "duration": 19,
    "start_time": "2023-03-05T10:19:01.263Z"
   },
   {
    "duration": 407570,
    "start_time": "2023-03-05T10:19:02.400Z"
   },
   {
    "duration": 28,
    "start_time": "2023-03-05T10:25:55.497Z"
   },
   {
    "duration": 10,
    "start_time": "2023-03-05T10:26:02.275Z"
   },
   {
    "duration": 9,
    "start_time": "2023-03-05T10:26:07.633Z"
   },
   {
    "duration": 71,
    "start_time": "2023-03-05T10:26:09.123Z"
   },
   {
    "duration": 18,
    "start_time": "2023-03-05T10:26:24.979Z"
   },
   {
    "duration": 8,
    "start_time": "2023-03-05T10:26:25.815Z"
   },
   {
    "duration": 623870,
    "start_time": "2023-03-05T10:26:26.538Z"
   },
   {
    "duration": 8,
    "start_time": "2023-03-05T10:37:48.267Z"
   },
   {
    "duration": 6,
    "start_time": "2023-03-05T10:37:49.101Z"
   },
   {
    "duration": 23336,
    "start_time": "2023-03-05T10:37:49.971Z"
   },
   {
    "duration": 7,
    "start_time": "2023-03-05T10:38:16.228Z"
   },
   {
    "duration": 5,
    "start_time": "2023-03-05T10:38:16.779Z"
   },
   {
    "duration": 4995615,
    "start_time": "2023-03-05T10:38:17.863Z"
   },
   {
    "duration": 10,
    "start_time": "2023-03-05T12:08:03.848Z"
   },
   {
    "duration": 8,
    "start_time": "2023-03-05T12:08:04.237Z"
   },
   {
    "duration": 733181,
    "start_time": "2023-03-05T12:08:04.780Z"
   },
   {
    "duration": 8,
    "start_time": "2023-03-05T12:20:24.253Z"
   },
   {
    "duration": 5,
    "start_time": "2023-03-05T12:20:25.193Z"
   },
   {
    "duration": 1879,
    "start_time": "2023-03-05T12:47:47.249Z"
   },
   {
    "duration": 2066,
    "start_time": "2023-03-05T12:47:49.130Z"
   },
   {
    "duration": 13,
    "start_time": "2023-03-05T12:47:51.198Z"
   },
   {
    "duration": 58,
    "start_time": "2023-03-05T12:47:51.214Z"
   },
   {
    "duration": 37,
    "start_time": "2023-03-05T12:47:51.274Z"
   },
   {
    "duration": 41855,
    "start_time": "2023-03-05T12:47:51.314Z"
   },
   {
    "duration": 13,
    "start_time": "2023-03-05T12:48:33.171Z"
   },
   {
    "duration": 75,
    "start_time": "2023-03-05T12:48:33.186Z"
   },
   {
    "duration": 7583,
    "start_time": "2023-03-05T12:48:33.263Z"
   },
   {
    "duration": 5,
    "start_time": "2023-03-05T12:48:40.848Z"
   },
   {
    "duration": 19,
    "start_time": "2023-03-05T12:48:40.854Z"
   },
   {
    "duration": 18,
    "start_time": "2023-03-05T12:48:40.875Z"
   },
   {
    "duration": 381062,
    "start_time": "2023-03-05T12:48:40.896Z"
   },
   {
    "duration": 10,
    "start_time": "2023-03-05T12:55:29.149Z"
   },
   {
    "duration": 6,
    "start_time": "2023-03-05T12:55:30.976Z"
   },
   {
    "duration": 367464,
    "start_time": "2023-03-05T12:55:32.055Z"
   },
   {
    "duration": 7,
    "start_time": "2023-03-05T13:03:53.368Z"
   },
   {
    "duration": 5,
    "start_time": "2023-03-05T13:03:54.346Z"
   },
   {
    "duration": 49905,
    "start_time": "2023-03-05T13:03:54.827Z"
   },
   {
    "duration": 7,
    "start_time": "2023-03-05T13:06:18.195Z"
   },
   {
    "duration": 6,
    "start_time": "2023-03-05T13:06:18.562Z"
   },
   {
    "duration": 2367380,
    "start_time": "2023-03-05T13:06:18.809Z"
   },
   {
    "duration": 6,
    "start_time": "2023-03-05T16:12:41.659Z"
   },
   {
    "duration": 4,
    "start_time": "2023-03-05T16:12:47.759Z"
   },
   {
    "duration": 7,
    "start_time": "2023-03-05T16:14:16.981Z"
   },
   {
    "duration": 10,
    "start_time": "2023-03-05T16:14:24.742Z"
   },
   {
    "duration": 66,
    "start_time": "2023-03-05T16:14:32.037Z"
   },
   {
    "duration": 10,
    "start_time": "2023-03-05T16:14:36.966Z"
   },
   {
    "duration": 66,
    "start_time": "2023-03-05T16:15:03.345Z"
   },
   {
    "duration": 8,
    "start_time": "2023-03-05T16:15:10.260Z"
   },
   {
    "duration": 7,
    "start_time": "2023-03-05T16:19:17.050Z"
   },
   {
    "duration": 5,
    "start_time": "2023-03-05T16:19:17.560Z"
   },
   {
    "duration": 815,
    "start_time": "2023-03-05T16:19:18.153Z"
   },
   {
    "duration": 32,
    "start_time": "2023-03-05T16:20:16.899Z"
   },
   {
    "duration": 6,
    "start_time": "2023-03-05T16:20:17.509Z"
   },
   {
    "duration": 6959,
    "start_time": "2023-03-05T16:20:22.147Z"
   },
   {
    "duration": 6,
    "start_time": "2023-03-05T16:20:30.931Z"
   },
   {
    "duration": 6,
    "start_time": "2023-03-05T16:20:31.981Z"
   },
   {
    "duration": 6442930,
    "start_time": "2023-03-05T16:20:32.669Z"
   },
   {
    "duration": 148,
    "start_time": "2023-03-05T18:11:48.001Z"
   },
   {
    "duration": 94,
    "start_time": "2023-03-05T18:12:49.071Z"
   },
   {
    "duration": 2514,
    "start_time": "2023-03-05T18:12:57.388Z"
   },
   {
    "duration": 2893,
    "start_time": "2023-03-05T18:15:28.047Z"
   },
   {
    "duration": 393,
    "start_time": "2023-03-05T18:18:16.640Z"
   },
   {
    "duration": 367,
    "start_time": "2023-03-05T18:18:20.664Z"
   },
   {
    "duration": 1834,
    "start_time": "2023-03-05T18:22:00.388Z"
   },
   {
    "duration": 2243,
    "start_time": "2023-03-05T18:22:02.224Z"
   },
   {
    "duration": 13,
    "start_time": "2023-03-05T18:22:04.472Z"
   },
   {
    "duration": 242,
    "start_time": "2023-03-05T18:22:04.488Z"
   },
   {
    "duration": 148,
    "start_time": "2023-03-05T18:22:04.733Z"
   },
   {
    "duration": 2977,
    "start_time": "2023-03-05T18:22:04.883Z"
   },
   {
    "duration": 32,
    "start_time": "2023-03-05T18:22:07.863Z"
   },
   {
    "duration": 41079,
    "start_time": "2023-03-05T18:22:07.898Z"
   },
   {
    "duration": 36,
    "start_time": "2023-03-05T18:22:48.979Z"
   },
   {
    "duration": 7215,
    "start_time": "2023-03-05T18:22:49.018Z"
   },
   {
    "duration": 8,
    "start_time": "2023-03-05T18:22:56.234Z"
   },
   {
    "duration": 29,
    "start_time": "2023-03-05T18:22:56.244Z"
   },
   {
    "duration": 8025603,
    "start_time": "2023-03-05T18:22:56.275Z"
   },
   {
    "duration": 151,
    "start_time": "2023-03-05T20:36:41.880Z"
   },
   {
    "duration": 1351,
    "start_time": "2023-03-05T20:42:00.824Z"
   },
   {
    "duration": 335,
    "start_time": "2023-03-05T20:42:07.082Z"
   },
   {
    "duration": 351567,
    "start_time": "2023-03-05T20:42:50.082Z"
   },
   {
    "duration": 1921,
    "start_time": "2023-03-05T20:49:56.649Z"
   },
   {
    "duration": 1927,
    "start_time": "2023-03-05T20:49:58.573Z"
   },
   {
    "duration": 11,
    "start_time": "2023-03-05T20:50:00.503Z"
   },
   {
    "duration": 283,
    "start_time": "2023-03-05T20:50:00.517Z"
   },
   {
    "duration": 142,
    "start_time": "2023-03-05T20:50:00.802Z"
   },
   {
    "duration": 2895,
    "start_time": "2023-03-05T20:50:00.947Z"
   },
   {
    "duration": 34,
    "start_time": "2023-03-05T20:50:03.844Z"
   },
   {
    "duration": 41551,
    "start_time": "2023-03-05T20:50:03.880Z"
   },
   {
    "duration": 38,
    "start_time": "2023-03-05T20:50:45.433Z"
   },
   {
    "duration": 7335,
    "start_time": "2023-03-05T20:50:45.474Z"
   },
   {
    "duration": 1910,
    "start_time": "2023-03-05T20:51:25.109Z"
   },
   {
    "duration": 2022,
    "start_time": "2023-03-05T20:51:27.021Z"
   },
   {
    "duration": 11,
    "start_time": "2023-03-05T20:51:29.046Z"
   },
   {
    "duration": 262,
    "start_time": "2023-03-05T20:51:29.059Z"
   },
   {
    "duration": 161,
    "start_time": "2023-03-05T20:51:29.323Z"
   },
   {
    "duration": 2906,
    "start_time": "2023-03-05T20:51:29.487Z"
   },
   {
    "duration": 51,
    "start_time": "2023-03-05T20:51:32.395Z"
   },
   {
    "duration": 41912,
    "start_time": "2023-03-05T20:51:32.448Z"
   },
   {
    "duration": 35,
    "start_time": "2023-03-05T20:52:14.361Z"
   },
   {
    "duration": 7235,
    "start_time": "2023-03-05T20:52:14.399Z"
   },
   {
    "duration": 1924,
    "start_time": "2023-03-05T20:53:55.257Z"
   },
   {
    "duration": 1811,
    "start_time": "2023-03-05T20:53:57.183Z"
   },
   {
    "duration": 12,
    "start_time": "2023-03-05T20:53:58.996Z"
   },
   {
    "duration": 252,
    "start_time": "2023-03-05T20:53:59.010Z"
   },
   {
    "duration": 137,
    "start_time": "2023-03-05T20:53:59.264Z"
   },
   {
    "duration": 2803,
    "start_time": "2023-03-05T20:53:59.403Z"
   },
   {
    "duration": 56,
    "start_time": "2023-03-05T20:54:02.209Z"
   },
   {
    "duration": 41913,
    "start_time": "2023-03-05T20:54:02.267Z"
   },
   {
    "duration": 36,
    "start_time": "2023-03-05T20:54:44.182Z"
   },
   {
    "duration": 7441,
    "start_time": "2023-03-05T20:54:44.220Z"
   },
   {
    "duration": 1956,
    "start_time": "2023-03-05T20:57:42.959Z"
   },
   {
    "duration": 2124,
    "start_time": "2023-03-05T20:57:44.918Z"
   },
   {
    "duration": 13,
    "start_time": "2023-03-05T20:57:47.044Z"
   },
   {
    "duration": 265,
    "start_time": "2023-03-05T20:57:47.061Z"
   },
   {
    "duration": 152,
    "start_time": "2023-03-05T20:57:47.327Z"
   },
   {
    "duration": 2974,
    "start_time": "2023-03-05T20:57:47.481Z"
   },
   {
    "duration": 45,
    "start_time": "2023-03-05T20:57:50.457Z"
   },
   {
    "duration": 40496,
    "start_time": "2023-03-05T20:57:50.504Z"
   },
   {
    "duration": 44,
    "start_time": "2023-03-05T20:58:31.002Z"
   },
   {
    "duration": 7499,
    "start_time": "2023-03-05T20:58:31.050Z"
   },
   {
    "duration": 7,
    "start_time": "2023-03-05T20:58:38.551Z"
   },
   {
    "duration": 19,
    "start_time": "2023-03-05T20:58:38.560Z"
   },
   {
    "duration": 1924,
    "start_time": "2023-03-05T21:01:34.426Z"
   },
   {
    "duration": 1627,
    "start_time": "2023-03-05T21:01:36.352Z"
   },
   {
    "duration": 12,
    "start_time": "2023-03-05T21:01:37.980Z"
   },
   {
    "duration": 295,
    "start_time": "2023-03-05T21:01:37.994Z"
   },
   {
    "duration": 148,
    "start_time": "2023-03-05T21:01:38.293Z"
   },
   {
    "duration": 2891,
    "start_time": "2023-03-05T21:01:38.442Z"
   },
   {
    "duration": 34,
    "start_time": "2023-03-05T21:01:41.338Z"
   },
   {
    "duration": 39378,
    "start_time": "2023-03-05T21:01:41.373Z"
   },
   {
    "duration": 34,
    "start_time": "2023-03-05T21:02:20.753Z"
   },
   {
    "duration": 6991,
    "start_time": "2023-03-05T21:02:20.788Z"
   },
   {
    "duration": 7,
    "start_time": "2023-03-05T21:02:27.781Z"
   },
   {
    "duration": 18,
    "start_time": "2023-03-05T21:02:27.789Z"
   },
   {
    "duration": 1856,
    "start_time": "2023-03-05T21:03:50.157Z"
   },
   {
    "duration": 1551,
    "start_time": "2023-03-05T21:03:52.015Z"
   },
   {
    "duration": 13,
    "start_time": "2023-03-05T21:03:53.568Z"
   },
   {
    "duration": 235,
    "start_time": "2023-03-05T21:03:53.583Z"
   },
   {
    "duration": 131,
    "start_time": "2023-03-05T21:03:53.819Z"
   },
   {
    "duration": 2624,
    "start_time": "2023-03-05T21:03:53.951Z"
   },
   {
    "duration": 33,
    "start_time": "2023-03-05T21:03:56.577Z"
   },
   {
    "duration": 40885,
    "start_time": "2023-03-05T21:03:56.612Z"
   },
   {
    "duration": 43,
    "start_time": "2023-03-05T21:04:37.499Z"
   },
   {
    "duration": 7194,
    "start_time": "2023-03-05T21:04:37.545Z"
   },
   {
    "duration": 7,
    "start_time": "2023-03-05T21:04:44.740Z"
   },
   {
    "duration": 20,
    "start_time": "2023-03-05T21:04:44.749Z"
   },
   {
    "duration": 698635,
    "start_time": "2023-03-05T21:04:44.772Z"
   },
   {
    "duration": 1815,
    "start_time": "2023-03-05T21:17:18.995Z"
   },
   {
    "duration": 2225,
    "start_time": "2023-03-05T21:17:20.812Z"
   },
   {
    "duration": 12,
    "start_time": "2023-03-05T21:17:23.039Z"
   },
   {
    "duration": 251,
    "start_time": "2023-03-05T21:17:23.054Z"
   },
   {
    "duration": 137,
    "start_time": "2023-03-05T21:17:23.307Z"
   },
   {
    "duration": 2806,
    "start_time": "2023-03-05T21:17:23.446Z"
   },
   {
    "duration": 35,
    "start_time": "2023-03-05T21:17:26.254Z"
   },
   {
    "duration": 39108,
    "start_time": "2023-03-05T21:17:26.291Z"
   },
   {
    "duration": 65,
    "start_time": "2023-03-05T21:18:05.401Z"
   },
   {
    "duration": 6929,
    "start_time": "2023-03-05T21:18:05.468Z"
   },
   {
    "duration": 14,
    "start_time": "2023-03-05T21:18:12.399Z"
   },
   {
    "duration": 16,
    "start_time": "2023-03-05T21:18:12.416Z"
   },
   {
    "duration": 784601,
    "start_time": "2023-03-05T21:18:12.439Z"
   },
   {
    "duration": 0,
    "start_time": "2023-03-05T21:31:17.042Z"
   },
   {
    "duration": 3055,
    "start_time": "2023-03-05T21:34:37.640Z"
   },
   {
    "duration": 2767,
    "start_time": "2023-03-05T21:34:45.985Z"
   },
   {
    "duration": 10,
    "start_time": "2023-03-05T21:34:48.755Z"
   },
   {
    "duration": 268,
    "start_time": "2023-03-05T21:34:48.767Z"
   },
   {
    "duration": 150,
    "start_time": "2023-03-05T21:34:49.641Z"
   },
   {
    "duration": 2941,
    "start_time": "2023-03-05T21:34:53.987Z"
   },
   {
    "duration": 35,
    "start_time": "2023-03-05T21:38:00.293Z"
   },
   {
    "duration": 579,
    "start_time": "2023-03-05T21:38:02.704Z"
   },
   {
    "duration": 56,
    "start_time": "2023-03-05T21:44:01.674Z"
   },
   {
    "duration": 9350,
    "start_time": "2023-03-05T21:44:16.427Z"
   },
   {
    "duration": 59,
    "start_time": "2023-03-05T21:44:34.362Z"
   },
   {
    "duration": 337,
    "start_time": "2023-03-05T21:44:37.659Z"
   },
   {
    "duration": 8269,
    "start_time": "2023-03-05T21:45:30.782Z"
   },
   {
    "duration": 65,
    "start_time": "2023-03-05T21:45:57.029Z"
   },
   {
    "duration": 863,
    "start_time": "2023-03-05T21:46:02.244Z"
   },
   {
    "duration": 3,
    "start_time": "2023-03-06T06:01:29.213Z"
   },
   {
    "duration": 5379,
    "start_time": "2023-03-06T06:01:29.997Z"
   },
   {
    "duration": 9,
    "start_time": "2023-03-06T06:01:42.414Z"
   },
   {
    "duration": 2665,
    "start_time": "2023-03-06T06:01:42.997Z"
   },
   {
    "duration": 20,
    "start_time": "2023-03-06T06:01:45.676Z"
   },
   {
    "duration": 366,
    "start_time": "2023-03-06T06:01:46.706Z"
   },
   {
    "duration": 165,
    "start_time": "2023-03-06T06:01:47.342Z"
   },
   {
    "duration": 2707,
    "start_time": "2023-03-06T06:01:50.646Z"
   },
   {
    "duration": 40,
    "start_time": "2023-03-06T06:06:36.790Z"
   },
   {
    "duration": 1854,
    "start_time": "2023-03-06T06:06:43.300Z"
   },
   {
    "duration": 69,
    "start_time": "2023-03-06T06:07:27.735Z"
   },
   {
    "duration": 1200,
    "start_time": "2023-03-06T06:07:28.684Z"
   },
   {
    "duration": 117880,
    "start_time": "2023-03-06T06:08:01.484Z"
   },
   {
    "duration": 230722,
    "start_time": "2023-03-06T06:10:08.813Z"
   },
   {
    "duration": 572,
    "start_time": "2023-03-06T06:14:53.400Z"
   },
   {
    "duration": 30,
    "start_time": "2023-03-06T06:15:02.849Z"
   },
   {
    "duration": 106,
    "start_time": "2023-03-06T06:15:30.619Z"
   },
   {
    "duration": 9,
    "start_time": "2023-03-06T06:15:36.392Z"
   },
   {
    "duration": 104,
    "start_time": "2023-03-06T06:15:45.093Z"
   },
   {
    "duration": 6,
    "start_time": "2023-03-06T06:16:45.737Z"
   },
   {
    "duration": 5,
    "start_time": "2023-03-06T06:16:49.639Z"
   },
   {
    "duration": 23,
    "start_time": "2023-03-06T06:17:02.993Z"
   },
   {
    "duration": 18,
    "start_time": "2023-03-06T06:17:19.982Z"
   },
   {
    "duration": 14,
    "start_time": "2023-03-06T06:17:33.952Z"
   },
   {
    "duration": 5,
    "start_time": "2023-03-06T06:18:14.500Z"
   },
   {
    "duration": 27,
    "start_time": "2023-03-06T06:19:52.002Z"
   },
   {
    "duration": 29,
    "start_time": "2023-03-06T06:20:38.989Z"
   },
   {
    "duration": 42,
    "start_time": "2023-03-06T06:20:49.187Z"
   },
   {
    "duration": 22,
    "start_time": "2023-03-06T06:20:59.518Z"
   },
   {
    "duration": 27,
    "start_time": "2023-03-06T06:22:11.639Z"
   },
   {
    "duration": 118,
    "start_time": "2023-03-06T06:28:35.983Z"
   },
   {
    "duration": 61,
    "start_time": "2023-03-06T06:28:46.835Z"
   },
   {
    "duration": 66,
    "start_time": "2023-03-06T06:29:24.930Z"
   },
   {
    "duration": 33,
    "start_time": "2023-03-06T06:29:42.798Z"
   },
   {
    "duration": 3,
    "start_time": "2023-03-06T06:35:29.029Z"
   },
   {
    "duration": 6603,
    "start_time": "2023-03-06T06:35:29.035Z"
   },
   {
    "duration": 2568,
    "start_time": "2023-03-06T06:35:35.640Z"
   },
   {
    "duration": 13,
    "start_time": "2023-03-06T06:35:38.209Z"
   },
   {
    "duration": 290,
    "start_time": "2023-03-06T06:35:38.224Z"
   },
   {
    "duration": 127,
    "start_time": "2023-03-06T06:35:38.516Z"
   },
   {
    "duration": 2897,
    "start_time": "2023-03-06T06:35:38.645Z"
   },
   {
    "duration": 847,
    "start_time": "2023-03-06T06:35:41.544Z"
   },
   {
    "duration": 105,
    "start_time": "2023-03-06T06:35:47.920Z"
   },
   {
    "duration": 48,
    "start_time": "2023-03-06T06:35:58.539Z"
   },
   {
    "duration": 964,
    "start_time": "2023-03-06T06:36:00.551Z"
   },
   {
    "duration": 51,
    "start_time": "2023-03-06T06:36:10.954Z"
   },
   {
    "duration": 525,
    "start_time": "2023-03-06T06:36:12.397Z"
   },
   {
    "duration": 31,
    "start_time": "2023-03-06T06:37:23.197Z"
   },
   {
    "duration": 521,
    "start_time": "2023-03-06T06:37:24.215Z"
   },
   {
    "duration": 40,
    "start_time": "2023-03-06T06:37:33.077Z"
   },
   {
    "duration": 592,
    "start_time": "2023-03-06T06:37:34.447Z"
   },
   {
    "duration": 8,
    "start_time": "2023-03-06T06:39:50.393Z"
   },
   {
    "duration": 3,
    "start_time": "2023-03-06T06:39:56.506Z"
   },
   {
    "duration": 4,
    "start_time": "2023-03-06T06:40:14.326Z"
   },
   {
    "duration": 3,
    "start_time": "2023-03-06T06:40:22.247Z"
   },
   {
    "duration": 111,
    "start_time": "2023-03-06T06:41:06.694Z"
   },
   {
    "duration": 11,
    "start_time": "2023-03-06T06:41:22.977Z"
   },
   {
    "duration": 6,
    "start_time": "2023-03-06T06:41:26.394Z"
   },
   {
    "duration": 105,
    "start_time": "2023-03-06T06:42:36.932Z"
   },
   {
    "duration": 112,
    "start_time": "2023-03-06T06:42:51.297Z"
   },
   {
    "duration": 42717,
    "start_time": "2023-03-06T06:43:23.047Z"
   },
   {
    "duration": 74,
    "start_time": "2023-03-06T06:44:10.625Z"
   },
   {
    "duration": 69,
    "start_time": "2023-03-06T06:47:33.281Z"
   },
   {
    "duration": 36,
    "start_time": "2023-03-06T06:56:01.754Z"
   },
   {
    "duration": 505,
    "start_time": "2023-03-06T06:56:02.648Z"
   },
   {
    "duration": 31,
    "start_time": "2023-03-06T06:56:28.314Z"
   },
   {
    "duration": 582,
    "start_time": "2023-03-06T06:56:29.023Z"
   },
   {
    "duration": 42,
    "start_time": "2023-03-06T06:57:38.506Z"
   },
   {
    "duration": 36795,
    "start_time": "2023-03-06T06:57:38.989Z"
   },
   {
    "duration": 4390,
    "start_time": "2023-03-06T06:58:39.681Z"
   },
   {
    "duration": 2539,
    "start_time": "2023-03-06T06:58:44.078Z"
   },
   {
    "duration": 12,
    "start_time": "2023-03-06T06:58:46.619Z"
   },
   {
    "duration": 281,
    "start_time": "2023-03-06T06:58:46.632Z"
   },
   {
    "duration": 137,
    "start_time": "2023-03-06T06:58:46.916Z"
   },
   {
    "duration": 2586,
    "start_time": "2023-03-06T06:58:47.055Z"
   },
   {
    "duration": 42,
    "start_time": "2023-03-06T06:58:49.643Z"
   },
   {
    "duration": 43194,
    "start_time": "2023-03-06T06:58:49.686Z"
   },
   {
    "duration": 24,
    "start_time": "2023-03-06T06:59:32.883Z"
   },
   {
    "duration": 7064,
    "start_time": "2023-03-06T06:59:32.908Z"
   },
   {
    "duration": 7,
    "start_time": "2023-03-06T06:59:39.973Z"
   },
   {
    "duration": 8,
    "start_time": "2023-03-06T06:59:39.982Z"
   },
   {
    "duration": 12940666,
    "start_time": "2023-03-06T06:59:39.991Z"
   },
   {
    "duration": 20,
    "start_time": "2023-03-06T10:39:30.373Z"
   },
   {
    "duration": 11,
    "start_time": "2023-03-06T10:41:09.668Z"
   },
   {
    "duration": 5,
    "start_time": "2023-03-06T10:41:09.908Z"
   },
   {
    "duration": 435771,
    "start_time": "2023-03-06T10:41:10.511Z"
   },
   {
    "duration": 4495,
    "start_time": "2023-03-06T10:49:16.710Z"
   },
   {
    "duration": 2993,
    "start_time": "2023-03-06T10:49:21.207Z"
   },
   {
    "duration": 11,
    "start_time": "2023-03-06T10:49:24.201Z"
   },
   {
    "duration": 265,
    "start_time": "2023-03-06T10:49:24.214Z"
   },
   {
    "duration": 129,
    "start_time": "2023-03-06T10:49:24.480Z"
   },
   {
    "duration": 2679,
    "start_time": "2023-03-06T10:49:24.611Z"
   },
   {
    "duration": 30,
    "start_time": "2023-03-06T10:49:27.292Z"
   },
   {
    "duration": 42302,
    "start_time": "2023-03-06T10:49:27.324Z"
   },
   {
    "duration": 35,
    "start_time": "2023-03-06T10:50:09.628Z"
   },
   {
    "duration": 6821,
    "start_time": "2023-03-06T10:50:09.667Z"
   },
   {
    "duration": 5,
    "start_time": "2023-03-06T10:50:16.490Z"
   },
   {
    "duration": 5,
    "start_time": "2023-03-06T10:50:16.497Z"
   },
   {
    "duration": 720874,
    "start_time": "2023-03-06T10:50:16.503Z"
   },
   {
    "duration": 14,
    "start_time": "2023-03-06T11:02:17.380Z"
   },
   {
    "duration": 751,
    "start_time": "2023-03-06T11:02:17.396Z"
   },
   {
    "duration": 360,
    "start_time": "2023-03-06T11:02:18.149Z"
   },
   {
    "duration": 402,
    "start_time": "2023-03-06T11:02:18.511Z"
   },
   {
    "duration": 0,
    "start_time": "2023-03-06T11:02:18.915Z"
   },
   {
    "duration": 0,
    "start_time": "2023-03-06T11:02:18.917Z"
   },
   {
    "duration": 3,
    "start_time": "2023-03-06T11:02:44.081Z"
   },
   {
    "duration": 84,
    "start_time": "2023-03-06T11:02:46.113Z"
   },
   {
    "duration": 3,
    "start_time": "2023-03-06T11:02:51.132Z"
   },
   {
    "duration": 26,
    "start_time": "2023-03-06T11:03:23.730Z"
   },
   {
    "duration": 740,
    "start_time": "2023-03-06T11:03:31.428Z"
   },
   {
    "duration": 3,
    "start_time": "2023-03-06T11:05:13.685Z"
   },
   {
    "duration": 201045,
    "start_time": "2023-03-06T11:05:14.519Z"
   },
   {
    "duration": 4,
    "start_time": "2023-03-06T11:10:39.025Z"
   },
   {
    "duration": 11935,
    "start_time": "2023-03-06T11:10:39.785Z"
   },
   {
    "duration": 4,
    "start_time": "2023-03-06T11:10:55.419Z"
   },
   {
    "duration": 32320,
    "start_time": "2023-03-06T11:10:56.044Z"
   },
   {
    "duration": 3,
    "start_time": "2023-03-06T11:13:10.515Z"
   },
   {
    "duration": 20214,
    "start_time": "2023-03-06T11:13:11.193Z"
   },
   {
    "duration": 740,
    "start_time": "2023-03-06T11:16:43.185Z"
   },
   {
    "duration": 18,
    "start_time": "2023-03-06T11:17:14.428Z"
   },
   {
    "duration": 4431,
    "start_time": "2023-03-06T11:30:23.898Z"
   },
   {
    "duration": 2453,
    "start_time": "2023-03-06T11:30:28.331Z"
   },
   {
    "duration": 11,
    "start_time": "2023-03-06T11:30:30.786Z"
   },
   {
    "duration": 292,
    "start_time": "2023-03-06T11:30:30.798Z"
   },
   {
    "duration": 125,
    "start_time": "2023-03-06T11:30:31.092Z"
   },
   {
    "duration": 2618,
    "start_time": "2023-03-06T11:30:31.219Z"
   },
   {
    "duration": 41,
    "start_time": "2023-03-06T11:30:33.839Z"
   },
   {
    "duration": 43099,
    "start_time": "2023-03-06T11:30:33.882Z"
   },
   {
    "duration": 27,
    "start_time": "2023-03-06T11:31:16.985Z"
   },
   {
    "duration": 6967,
    "start_time": "2023-03-06T11:31:17.014Z"
   },
   {
    "duration": 6,
    "start_time": "2023-03-06T11:31:23.985Z"
   },
   {
    "duration": 17,
    "start_time": "2023-03-06T11:31:23.992Z"
   },
   {
    "duration": 812805,
    "start_time": "2023-03-06T11:31:24.010Z"
   },
   {
    "duration": 10,
    "start_time": "2023-03-06T11:44:56.818Z"
   },
   {
    "duration": 4123,
    "start_time": "2023-03-06T12:46:46.294Z"
   },
   {
    "duration": 2852,
    "start_time": "2023-03-06T12:46:50.419Z"
   },
   {
    "duration": 13,
    "start_time": "2023-03-06T12:46:53.273Z"
   },
   {
    "duration": 264,
    "start_time": "2023-03-06T12:46:53.288Z"
   },
   {
    "duration": 127,
    "start_time": "2023-03-06T12:46:53.554Z"
   },
   {
    "duration": 2629,
    "start_time": "2023-03-06T12:46:53.683Z"
   },
   {
    "duration": 33,
    "start_time": "2023-03-06T12:46:56.314Z"
   },
   {
    "duration": 41343,
    "start_time": "2023-03-06T12:46:56.354Z"
   },
   {
    "duration": 37,
    "start_time": "2023-03-06T12:47:37.699Z"
   },
   {
    "duration": 6405,
    "start_time": "2023-03-06T12:47:37.738Z"
   },
   {
    "duration": 10,
    "start_time": "2023-03-06T12:47:44.145Z"
   },
   {
    "duration": 6,
    "start_time": "2023-03-06T12:47:44.157Z"
   },
   {
    "duration": 759427,
    "start_time": "2023-03-06T12:47:44.165Z"
   },
   {
    "duration": 9,
    "start_time": "2023-03-06T13:00:23.595Z"
   },
   {
    "duration": 4094,
    "start_time": "2023-03-06T13:21:17.271Z"
   },
   {
    "duration": 2501,
    "start_time": "2023-03-06T13:21:21.368Z"
   },
   {
    "duration": 10,
    "start_time": "2023-03-06T13:21:23.871Z"
   },
   {
    "duration": 244,
    "start_time": "2023-03-06T13:21:23.883Z"
   },
   {
    "duration": 116,
    "start_time": "2023-03-06T13:21:24.128Z"
   },
   {
    "duration": 2405,
    "start_time": "2023-03-06T13:21:24.246Z"
   },
   {
    "duration": 33,
    "start_time": "2023-03-06T13:21:26.654Z"
   },
   {
    "duration": 39550,
    "start_time": "2023-03-06T13:21:26.689Z"
   },
   {
    "duration": 23,
    "start_time": "2023-03-06T13:22:06.240Z"
   },
   {
    "duration": 6387,
    "start_time": "2023-03-06T13:22:06.265Z"
   },
   {
    "duration": 6,
    "start_time": "2023-03-06T13:22:12.653Z"
   },
   {
    "duration": 8,
    "start_time": "2023-03-06T13:22:12.661Z"
   },
   {
    "duration": 10832,
    "start_time": "2023-03-06T13:22:12.671Z"
   },
   {
    "duration": 0,
    "start_time": "2023-03-06T13:22:23.504Z"
   },
   {
    "duration": 8,
    "start_time": "2023-03-06T13:24:09.717Z"
   },
   {
    "duration": 7,
    "start_time": "2023-03-06T13:24:10.677Z"
   },
   {
    "duration": 142789,
    "start_time": "2023-03-06T13:24:10.816Z"
   },
   {
    "duration": 8,
    "start_time": "2023-03-06T13:26:45.926Z"
   },
   {
    "duration": 6,
    "start_time": "2023-03-06T13:26:54.506Z"
   },
   {
    "duration": 6,
    "start_time": "2023-03-06T13:26:55.379Z"
   },
   {
    "duration": 98926,
    "start_time": "2023-03-06T13:26:56.393Z"
   },
   {
    "duration": 6,
    "start_time": "2023-03-06T13:29:05.577Z"
   },
   {
    "duration": 5,
    "start_time": "2023-03-06T13:29:05.933Z"
   },
   {
    "duration": 4303,
    "start_time": "2023-03-06T13:30:25.693Z"
   },
   {
    "duration": 2497,
    "start_time": "2023-03-06T13:30:29.998Z"
   },
   {
    "duration": 13,
    "start_time": "2023-03-06T13:30:32.497Z"
   },
   {
    "duration": 271,
    "start_time": "2023-03-06T13:30:32.511Z"
   },
   {
    "duration": 116,
    "start_time": "2023-03-06T13:30:32.785Z"
   },
   {
    "duration": 2500,
    "start_time": "2023-03-06T13:30:32.903Z"
   },
   {
    "duration": 36,
    "start_time": "2023-03-06T13:30:35.405Z"
   },
   {
    "duration": 40020,
    "start_time": "2023-03-06T13:30:35.443Z"
   },
   {
    "duration": 26,
    "start_time": "2023-03-06T13:31:15.465Z"
   },
   {
    "duration": 6409,
    "start_time": "2023-03-06T13:31:15.493Z"
   },
   {
    "duration": 6,
    "start_time": "2023-03-06T13:31:21.903Z"
   },
   {
    "duration": 18,
    "start_time": "2023-03-06T13:31:21.911Z"
   },
   {
    "duration": 4138,
    "start_time": "2023-03-06T13:33:40.537Z"
   },
   {
    "duration": 2828,
    "start_time": "2023-03-06T13:33:44.677Z"
   },
   {
    "duration": 13,
    "start_time": "2023-03-06T13:33:47.507Z"
   },
   {
    "duration": 303,
    "start_time": "2023-03-06T13:33:47.523Z"
   },
   {
    "duration": 126,
    "start_time": "2023-03-06T13:33:47.828Z"
   },
   {
    "duration": 2501,
    "start_time": "2023-03-06T13:33:47.956Z"
   },
   {
    "duration": 30,
    "start_time": "2023-03-06T13:33:50.459Z"
   },
   {
    "duration": 39279,
    "start_time": "2023-03-06T13:33:50.491Z"
   },
   {
    "duration": 23,
    "start_time": "2023-03-06T13:34:29.771Z"
   },
   {
    "duration": 6227,
    "start_time": "2023-03-06T13:34:29.796Z"
   },
   {
    "duration": 6,
    "start_time": "2023-03-06T13:34:36.024Z"
   },
   {
    "duration": 12,
    "start_time": "2023-03-06T13:34:36.031Z"
   },
   {
    "duration": 4300,
    "start_time": "2023-03-06T13:45:57.466Z"
   },
   {
    "duration": 2504,
    "start_time": "2023-03-06T13:46:01.769Z"
   },
   {
    "duration": 13,
    "start_time": "2023-03-06T13:46:04.275Z"
   },
   {
    "duration": 303,
    "start_time": "2023-03-06T13:46:04.290Z"
   },
   {
    "duration": 118,
    "start_time": "2023-03-06T13:46:04.594Z"
   },
   {
    "duration": 2667,
    "start_time": "2023-03-06T13:46:04.714Z"
   },
   {
    "duration": 32,
    "start_time": "2023-03-06T13:46:07.383Z"
   },
   {
    "duration": 42969,
    "start_time": "2023-03-06T13:46:07.417Z"
   },
   {
    "duration": 20,
    "start_time": "2023-03-06T13:46:50.388Z"
   },
   {
    "duration": 6930,
    "start_time": "2023-03-06T13:46:50.410Z"
   },
   {
    "duration": 6,
    "start_time": "2023-03-06T13:46:57.342Z"
   },
   {
    "duration": 12,
    "start_time": "2023-03-06T13:46:57.369Z"
   },
   {
    "duration": 4253,
    "start_time": "2023-03-06T14:04:28.584Z"
   },
   {
    "duration": 3149,
    "start_time": "2023-03-06T14:04:32.839Z"
   },
   {
    "duration": 11,
    "start_time": "2023-03-06T14:04:35.990Z"
   },
   {
    "duration": 268,
    "start_time": "2023-03-06T14:04:36.003Z"
   },
   {
    "duration": 118,
    "start_time": "2023-03-06T14:04:36.274Z"
   },
   {
    "duration": 2670,
    "start_time": "2023-03-06T14:04:36.394Z"
   },
   {
    "duration": 37,
    "start_time": "2023-03-06T14:04:39.068Z"
   },
   {
    "duration": 40592,
    "start_time": "2023-03-06T14:04:39.107Z"
   },
   {
    "duration": 20,
    "start_time": "2023-03-06T14:05:19.700Z"
   },
   {
    "duration": 6406,
    "start_time": "2023-03-06T14:05:19.722Z"
   },
   {
    "duration": 6,
    "start_time": "2023-03-06T14:05:26.130Z"
   },
   {
    "duration": 6,
    "start_time": "2023-03-06T14:05:26.137Z"
   },
   {
    "duration": 4342,
    "start_time": "2023-03-06T14:09:12.941Z"
   },
   {
    "duration": 2024,
    "start_time": "2023-03-06T14:09:17.285Z"
   },
   {
    "duration": 10,
    "start_time": "2023-03-06T14:09:19.311Z"
   },
   {
    "duration": 266,
    "start_time": "2023-03-06T14:09:19.323Z"
   },
   {
    "duration": 125,
    "start_time": "2023-03-06T14:09:19.592Z"
   },
   {
    "duration": 2576,
    "start_time": "2023-03-06T14:09:19.718Z"
   },
   {
    "duration": 28,
    "start_time": "2023-03-06T14:09:22.296Z"
   },
   {
    "duration": 41080,
    "start_time": "2023-03-06T14:09:22.326Z"
   },
   {
    "duration": 21,
    "start_time": "2023-03-06T14:10:03.408Z"
   },
   {
    "duration": 6766,
    "start_time": "2023-03-06T14:10:03.430Z"
   },
   {
    "duration": 6,
    "start_time": "2023-03-06T14:10:10.197Z"
   },
   {
    "duration": 12,
    "start_time": "2023-03-06T14:10:10.204Z"
   },
   {
    "duration": 147735,
    "start_time": "2023-03-06T14:10:10.218Z"
   },
   {
    "duration": 7,
    "start_time": "2023-03-06T14:12:37.967Z"
   },
   {
    "duration": 4573,
    "start_time": "2023-03-06T14:12:48.942Z"
   },
   {
    "duration": 2,
    "start_time": "2023-03-06T14:13:01.135Z"
   },
   {
    "duration": 3,
    "start_time": "2023-03-06T14:13:01.684Z"
   },
   {
    "duration": 27311,
    "start_time": "2023-03-06T14:13:02.853Z"
   },
   {
    "duration": 828,
    "start_time": "2023-03-06T14:14:01.199Z"
   },
   {
    "duration": 4353,
    "start_time": "2023-03-06T14:14:37.290Z"
   },
   {
    "duration": 2275,
    "start_time": "2023-03-06T14:14:41.645Z"
   },
   {
    "duration": 12,
    "start_time": "2023-03-06T14:14:43.922Z"
   },
   {
    "duration": 278,
    "start_time": "2023-03-06T14:14:43.936Z"
   },
   {
    "duration": 117,
    "start_time": "2023-03-06T14:14:44.217Z"
   },
   {
    "duration": 2620,
    "start_time": "2023-03-06T14:14:44.335Z"
   },
   {
    "duration": 35,
    "start_time": "2023-03-06T14:14:46.958Z"
   },
   {
    "duration": 40794,
    "start_time": "2023-03-06T14:14:46.995Z"
   },
   {
    "duration": 21,
    "start_time": "2023-03-06T14:15:27.791Z"
   },
   {
    "duration": 6538,
    "start_time": "2023-03-06T14:15:27.814Z"
   },
   {
    "duration": 16,
    "start_time": "2023-03-06T14:15:34.355Z"
   },
   {
    "duration": 28,
    "start_time": "2023-03-06T14:15:34.375Z"
   },
   {
    "duration": 4246,
    "start_time": "2023-03-06T14:16:00.923Z"
   },
   {
    "duration": 2202,
    "start_time": "2023-03-06T14:16:05.171Z"
   },
   {
    "duration": 10,
    "start_time": "2023-03-06T14:16:07.374Z"
   },
   {
    "duration": 268,
    "start_time": "2023-03-06T14:16:07.386Z"
   },
   {
    "duration": 123,
    "start_time": "2023-03-06T14:16:07.666Z"
   },
   {
    "duration": 2588,
    "start_time": "2023-03-06T14:16:07.790Z"
   },
   {
    "duration": 30,
    "start_time": "2023-03-06T14:16:10.379Z"
   },
   {
    "duration": 40472,
    "start_time": "2023-03-06T14:16:10.410Z"
   },
   {
    "duration": 21,
    "start_time": "2023-03-06T14:16:50.883Z"
   },
   {
    "duration": 6775,
    "start_time": "2023-03-06T14:16:50.906Z"
   },
   {
    "duration": 8,
    "start_time": "2023-03-06T14:16:57.683Z"
   },
   {
    "duration": 7,
    "start_time": "2023-03-06T14:16:57.693Z"
   },
   {
    "duration": 148131,
    "start_time": "2023-03-06T14:16:57.701Z"
   },
   {
    "duration": 9,
    "start_time": "2023-03-06T14:19:25.834Z"
   },
   {
    "duration": 578,
    "start_time": "2023-03-06T14:19:25.844Z"
   },
   {
    "duration": 299,
    "start_time": "2023-03-06T14:19:26.424Z"
   },
   {
    "duration": 410,
    "start_time": "2023-03-06T14:19:26.724Z"
   },
   {
    "duration": 0,
    "start_time": "2023-03-06T14:19:27.135Z"
   },
   {
    "duration": 0,
    "start_time": "2023-03-06T14:19:27.137Z"
   },
   {
    "duration": 25,
    "start_time": "2023-03-06T14:20:07.550Z"
   },
   {
    "duration": 32,
    "start_time": "2023-03-06T14:20:57.738Z"
   },
   {
    "duration": 302,
    "start_time": "2023-03-06T14:20:58.995Z"
   },
   {
    "duration": 4325,
    "start_time": "2023-03-06T14:23:05.200Z"
   },
   {
    "duration": 1783,
    "start_time": "2023-03-06T14:23:09.527Z"
   },
   {
    "duration": 13,
    "start_time": "2023-03-06T14:23:11.311Z"
   },
   {
    "duration": 269,
    "start_time": "2023-03-06T14:23:11.327Z"
   },
   {
    "duration": 123,
    "start_time": "2023-03-06T14:23:11.597Z"
   },
   {
    "duration": 2593,
    "start_time": "2023-03-06T14:23:11.721Z"
   },
   {
    "duration": 33,
    "start_time": "2023-03-06T14:23:14.315Z"
   },
   {
    "duration": 42208,
    "start_time": "2023-03-06T14:23:14.365Z"
   },
   {
    "duration": 25,
    "start_time": "2023-03-06T14:23:56.574Z"
   },
   {
    "duration": 7460,
    "start_time": "2023-03-06T14:23:56.601Z"
   },
   {
    "duration": 9,
    "start_time": "2023-03-06T14:24:04.066Z"
   },
   {
    "duration": 6,
    "start_time": "2023-03-06T14:24:04.076Z"
   },
   {
    "duration": 147436,
    "start_time": "2023-03-06T14:24:04.083Z"
   },
   {
    "duration": 9,
    "start_time": "2023-03-06T14:26:31.521Z"
   },
   {
    "duration": 736,
    "start_time": "2023-03-06T14:26:31.531Z"
   },
   {
    "duration": 249,
    "start_time": "2023-03-06T14:26:32.270Z"
   },
   {
    "duration": 39,
    "start_time": "2023-03-06T14:26:32.521Z"
   },
   {
    "duration": 270,
    "start_time": "2023-03-06T14:26:32.561Z"
   },
   {
    "duration": 4314,
    "start_time": "2023-03-06T14:27:32.284Z"
   },
   {
    "duration": 2525,
    "start_time": "2023-03-06T14:27:36.602Z"
   },
   {
    "duration": 12,
    "start_time": "2023-03-06T14:27:39.129Z"
   },
   {
    "duration": 270,
    "start_time": "2023-03-06T14:27:39.143Z"
   },
   {
    "duration": 120,
    "start_time": "2023-03-06T14:27:39.416Z"
   },
   {
    "duration": 2608,
    "start_time": "2023-03-06T14:27:39.538Z"
   },
   {
    "duration": 34,
    "start_time": "2023-03-06T14:27:42.148Z"
   },
   {
    "duration": 41641,
    "start_time": "2023-03-06T14:27:42.183Z"
   },
   {
    "duration": 23,
    "start_time": "2023-03-06T14:28:23.825Z"
   },
   {
    "duration": 7016,
    "start_time": "2023-03-06T14:28:23.865Z"
   },
   {
    "duration": 6,
    "start_time": "2023-03-06T14:28:30.882Z"
   },
   {
    "duration": 40,
    "start_time": "2023-03-06T14:28:30.890Z"
   },
   {
    "duration": 150246,
    "start_time": "2023-03-06T14:28:30.931Z"
   },
   {
    "duration": 8,
    "start_time": "2023-03-06T14:31:01.179Z"
   },
   {
    "duration": 804,
    "start_time": "2023-03-06T14:31:01.188Z"
   },
   {
    "duration": 307,
    "start_time": "2023-03-06T14:31:01.994Z"
   },
   {
    "duration": 18,
    "start_time": "2023-03-06T14:31:02.302Z"
   },
   {
    "duration": 291,
    "start_time": "2023-03-06T14:31:02.322Z"
   },
   {
    "duration": 379,
    "start_time": "2023-03-06T14:31:48.184Z"
   },
   {
    "duration": 17,
    "start_time": "2023-03-06T14:31:56.976Z"
   },
   {
    "duration": 18,
    "start_time": "2023-03-06T14:32:02.780Z"
   },
   {
    "duration": 278,
    "start_time": "2023-03-06T14:32:03.440Z"
   },
   {
    "duration": 4250,
    "start_time": "2023-03-06T14:32:34.155Z"
   },
   {
    "duration": 2513,
    "start_time": "2023-03-06T14:32:38.407Z"
   },
   {
    "duration": 11,
    "start_time": "2023-03-06T14:32:40.921Z"
   },
   {
    "duration": 262,
    "start_time": "2023-03-06T14:32:40.933Z"
   },
   {
    "duration": 117,
    "start_time": "2023-03-06T14:32:41.197Z"
   },
   {
    "duration": 2573,
    "start_time": "2023-03-06T14:32:41.316Z"
   },
   {
    "duration": 31,
    "start_time": "2023-03-06T14:32:43.891Z"
   },
   {
    "duration": 39536,
    "start_time": "2023-03-06T14:32:43.924Z"
   },
   {
    "duration": 22,
    "start_time": "2023-03-06T14:33:23.461Z"
   },
   {
    "duration": 6358,
    "start_time": "2023-03-06T14:33:23.485Z"
   },
   {
    "duration": 6,
    "start_time": "2023-03-06T14:33:29.844Z"
   },
   {
    "duration": 13,
    "start_time": "2023-03-06T14:33:29.851Z"
   },
   {
    "duration": 138781,
    "start_time": "2023-03-06T14:33:29.865Z"
   },
   {
    "duration": 9,
    "start_time": "2023-03-06T14:35:48.649Z"
   },
   {
    "duration": 711,
    "start_time": "2023-03-06T14:35:48.659Z"
   },
   {
    "duration": 288,
    "start_time": "2023-03-06T14:35:49.372Z"
   },
   {
    "duration": 20,
    "start_time": "2023-03-06T14:35:49.662Z"
   },
   {
    "duration": 294,
    "start_time": "2023-03-06T14:35:49.683Z"
   },
   {
    "duration": 6154,
    "start_time": "2023-03-07T09:20:09.901Z"
   },
   {
    "duration": 2436,
    "start_time": "2023-03-07T09:20:16.057Z"
   },
   {
    "duration": 13,
    "start_time": "2023-03-07T09:20:18.495Z"
   },
   {
    "duration": 234,
    "start_time": "2023-03-07T09:20:18.509Z"
   },
   {
    "duration": 132,
    "start_time": "2023-03-07T09:20:18.745Z"
   },
   {
    "duration": 2908,
    "start_time": "2023-03-07T09:20:18.878Z"
   },
   {
    "duration": 5,
    "start_time": "2023-03-07T09:20:21.787Z"
   },
   {
    "duration": 1599,
    "start_time": "2023-03-07T09:20:21.794Z"
   },
   {
    "duration": 10,
    "start_time": "2023-03-07T09:20:23.395Z"
   },
   {
    "duration": 6014,
    "start_time": "2023-03-07T10:22:33.805Z"
   },
   {
    "duration": 2389,
    "start_time": "2023-03-07T10:22:39.821Z"
   },
   {
    "duration": 15,
    "start_time": "2023-03-07T10:22:44.075Z"
   },
   {
    "duration": 263,
    "start_time": "2023-03-07T10:22:44.830Z"
   },
   {
    "duration": 152,
    "start_time": "2023-03-07T10:22:45.365Z"
   },
   {
    "duration": 2848,
    "start_time": "2023-03-07T10:23:04.527Z"
   },
   {
    "duration": 31,
    "start_time": "2023-03-07T10:23:58.905Z"
   },
   {
    "duration": 4545,
    "start_time": "2023-03-07T10:24:00.402Z"
   },
   {
    "duration": 9,
    "start_time": "2023-03-07T10:24:06.402Z"
   },
   {
    "duration": 33,
    "start_time": "2023-03-07T10:25:54.686Z"
   },
   {
    "duration": 769,
    "start_time": "2023-03-07T10:26:02.896Z"
   },
   {
    "duration": 38,
    "start_time": "2023-03-07T10:26:14.339Z"
   },
   {
    "duration": 1316,
    "start_time": "2023-03-07T10:26:15.635Z"
   },
   {
    "duration": 38,
    "start_time": "2023-03-07T10:26:26.504Z"
   },
   {
    "duration": 113106,
    "start_time": "2023-03-07T10:26:27.567Z"
   },
   {
    "duration": 32,
    "start_time": "2023-03-07T10:28:27.312Z"
   },
   {
    "duration": 821,
    "start_time": "2023-03-07T10:28:28.499Z"
   },
   {
    "duration": 86,
    "start_time": "2023-03-07T10:28:45.726Z"
   },
   {
    "duration": 33,
    "start_time": "2023-03-07T10:29:08.920Z"
   },
   {
    "duration": 202426,
    "start_time": "2023-03-07T10:29:10.037Z"
   },
   {
    "duration": 514,
    "start_time": "2023-03-07T10:32:41.965Z"
   },
   {
    "duration": 20,
    "start_time": "2023-03-07T10:32:55.092Z"
   },
   {
    "duration": 4,
    "start_time": "2023-03-07T10:33:02.072Z"
   },
   {
    "duration": 6,
    "start_time": "2023-03-07T10:33:16.445Z"
   },
   {
    "duration": 32,
    "start_time": "2023-03-07T10:33:47.616Z"
   },
   {
    "duration": 5,
    "start_time": "2023-03-07T10:34:04.733Z"
   },
   {
    "duration": 24,
    "start_time": "2023-03-07T10:34:45.593Z"
   },
   {
    "duration": 9,
    "start_time": "2023-03-07T10:34:57.320Z"
   },
   {
    "duration": 6,
    "start_time": "2023-03-07T10:34:58.054Z"
   },
   {
    "duration": 11,
    "start_time": "2023-03-07T10:35:00.922Z"
   },
   {
    "duration": 5,
    "start_time": "2023-03-07T10:35:01.685Z"
   },
   {
    "duration": 3,
    "start_time": "2023-03-07T10:36:37.047Z"
   },
   {
    "duration": 524726,
    "start_time": "2023-03-07T10:36:38.542Z"
   },
   {
    "duration": 4,
    "start_time": "2023-03-07T10:45:53.680Z"
   },
   {
    "duration": 52455,
    "start_time": "2023-03-07T10:45:55.540Z"
   },
   {
    "duration": 7,
    "start_time": "2023-03-07T10:49:10.286Z"
   },
   {
    "duration": 1241,
    "start_time": "2023-03-07T10:49:11.291Z"
   },
   {
    "duration": 9,
    "start_time": "2023-03-07T10:49:30.960Z"
   },
   {
    "duration": 1395,
    "start_time": "2023-03-07T10:49:32.033Z"
   },
   {
    "duration": 6,
    "start_time": "2023-03-07T10:49:43.242Z"
   },
   {
    "duration": 1526,
    "start_time": "2023-03-07T10:49:44.393Z"
   },
   {
    "duration": 5,
    "start_time": "2023-03-07T10:54:38.983Z"
   },
   {
    "duration": 5433844,
    "start_time": "2023-03-07T10:54:39.960Z"
   },
   {
    "duration": 6,
    "start_time": "2023-03-07T12:37:21.171Z"
   },
   {
    "duration": 7,
    "start_time": "2023-03-07T12:56:42.133Z"
   },
   {
    "duration": 443,
    "start_time": "2023-03-07T12:56:43.898Z"
   },
   {
    "duration": 593,
    "start_time": "2023-03-07T12:57:04.744Z"
   },
   {
    "duration": 2540,
    "start_time": "2023-03-07T12:57:14.473Z"
   },
   {
    "duration": 8,
    "start_time": "2023-03-07T12:57:17.622Z"
   },
   {
    "duration": 263,
    "start_time": "2023-03-07T12:57:17.942Z"
   },
   {
    "duration": 129,
    "start_time": "2023-03-07T12:57:18.325Z"
   },
   {
    "duration": 3253,
    "start_time": "2023-03-07T12:57:19.846Z"
   },
   {
    "duration": 6,
    "start_time": "2023-03-07T12:57:23.101Z"
   },
   {
    "duration": 547,
    "start_time": "2023-03-07T12:57:30.092Z"
   },
   {
    "duration": 13,
    "start_time": "2023-03-07T12:58:03.225Z"
   },
   {
    "duration": 2510,
    "start_time": "2023-03-07T12:58:08.300Z"
   },
   {
    "duration": 7,
    "start_time": "2023-03-07T12:58:10.812Z"
   },
   {
    "duration": 230,
    "start_time": "2023-03-07T12:58:10.820Z"
   },
   {
    "duration": 132,
    "start_time": "2023-03-07T12:58:11.055Z"
   },
   {
    "duration": 3125,
    "start_time": "2023-03-07T12:58:11.189Z"
   },
   {
    "duration": 5,
    "start_time": "2023-03-07T12:58:14.316Z"
   },
   {
    "duration": 5400,
    "start_time": "2023-03-07T13:16:02.911Z"
   },
   {
    "duration": 1995,
    "start_time": "2023-03-07T13:16:08.313Z"
   },
   {
    "duration": 13,
    "start_time": "2023-03-07T13:16:10.310Z"
   },
   {
    "duration": 282,
    "start_time": "2023-03-07T13:16:10.325Z"
   },
   {
    "duration": 164,
    "start_time": "2023-03-07T13:16:10.609Z"
   },
   {
    "duration": 3070,
    "start_time": "2023-03-07T13:16:10.777Z"
   },
   {
    "duration": 9,
    "start_time": "2023-03-07T13:16:13.849Z"
   },
   {
    "duration": 49010,
    "start_time": "2023-03-07T13:16:13.864Z"
   },
   {
    "duration": 6,
    "start_time": "2023-03-07T13:17:45.186Z"
   },
   {
    "duration": 1316478,
    "start_time": "2023-03-07T13:17:46.346Z"
   },
   {
    "duration": 39,
    "start_time": "2023-03-07T13:49:50.780Z"
   },
   {
    "duration": 15,
    "start_time": "2023-03-07T13:49:53.749Z"
   },
   {
    "duration": 11,
    "start_time": "2023-03-07T13:49:54.180Z"
   },
   {
    "duration": 402,
    "start_time": "2023-03-07T13:49:55.540Z"
   },
   {
    "duration": 16,
    "start_time": "2023-03-07T13:50:02.432Z"
   },
   {
    "duration": 7,
    "start_time": "2023-03-07T13:50:06.137Z"
   },
   {
    "duration": 9,
    "start_time": "2023-03-07T13:50:06.421Z"
   },
   {
    "duration": 43,
    "start_time": "2023-03-07T13:50:08.592Z"
   },
   {
    "duration": 11,
    "start_time": "2023-03-07T13:51:00.864Z"
   },
   {
    "duration": 11,
    "start_time": "2023-03-07T13:51:06.249Z"
   },
   {
    "duration": 9,
    "start_time": "2023-03-07T13:51:08.691Z"
   },
   {
    "duration": 89,
    "start_time": "2023-03-07T13:51:09.890Z"
   },
   {
    "duration": 14,
    "start_time": "2023-03-07T13:52:08.478Z"
   },
   {
    "duration": 11,
    "start_time": "2023-03-07T13:52:32.283Z"
   },
   {
    "duration": 90,
    "start_time": "2023-03-07T13:52:33.547Z"
   },
   {
    "duration": 6,
    "start_time": "2023-03-07T13:53:49.688Z"
   },
   {
    "duration": 14,
    "start_time": "2023-03-07T13:53:50.275Z"
   },
   {
    "duration": 732349,
    "start_time": "2023-03-07T13:53:53.192Z"
   },
   {
    "duration": 9,
    "start_time": "2023-03-07T14:06:45.390Z"
   },
   {
    "duration": 4,
    "start_time": "2023-03-07T14:07:05.673Z"
   },
   {
    "duration": 2905479,
    "start_time": "2023-03-07T14:07:11.877Z"
   },
   {
    "duration": 1183483,
    "start_time": "2023-03-07T14:55:45.045Z"
   },
   {
    "duration": 71,
    "start_time": "2023-03-07T15:21:48.792Z"
   },
   {
    "duration": 5,
    "start_time": "2023-03-07T15:21:56.145Z"
   },
   {
    "duration": 6732,
    "start_time": "2023-03-07T15:37:17.449Z"
   },
   {
    "duration": 2099,
    "start_time": "2023-03-07T15:37:24.183Z"
   },
   {
    "duration": 12,
    "start_time": "2023-03-07T15:37:26.284Z"
   },
   {
    "duration": 241,
    "start_time": "2023-03-07T15:37:26.298Z"
   },
   {
    "duration": 123,
    "start_time": "2023-03-07T15:37:26.541Z"
   },
   {
    "duration": 2793,
    "start_time": "2023-03-07T15:37:26.665Z"
   },
   {
    "duration": 5,
    "start_time": "2023-03-07T15:37:29.460Z"
   },
   {
    "duration": 1078530,
    "start_time": "2023-03-07T15:37:29.466Z"
   },
   {
    "duration": 8,
    "start_time": "2023-03-07T15:55:27.998Z"
   },
   {
    "duration": 47,
    "start_time": "2023-03-07T15:55:28.009Z"
   },
   {
    "duration": 6438,
    "start_time": "2023-03-07T15:55:28.058Z"
   },
   {
    "duration": 7,
    "start_time": "2023-03-07T15:55:34.497Z"
   },
   {
    "duration": 39,
    "start_time": "2023-03-07T15:55:34.507Z"
   },
   {
    "duration": 611,
    "start_time": "2023-03-07T15:55:34.548Z"
   },
   {
    "duration": 0,
    "start_time": "2023-03-07T15:55:35.161Z"
   },
   {
    "duration": 0,
    "start_time": "2023-03-07T15:55:35.162Z"
   },
   {
    "duration": 0,
    "start_time": "2023-03-07T15:55:35.163Z"
   },
   {
    "duration": 0,
    "start_time": "2023-03-07T15:55:35.165Z"
   },
   {
    "duration": 0,
    "start_time": "2023-03-07T15:55:35.166Z"
   },
   {
    "duration": 0,
    "start_time": "2023-03-07T15:55:35.167Z"
   },
   {
    "duration": 4745,
    "start_time": "2023-03-07T16:00:46.319Z"
   },
   {
    "duration": 3848,
    "start_time": "2023-03-07T16:00:51.066Z"
   },
   {
    "duration": 12,
    "start_time": "2023-03-07T16:00:54.916Z"
   },
   {
    "duration": 258,
    "start_time": "2023-03-07T16:00:54.930Z"
   },
   {
    "duration": 146,
    "start_time": "2023-03-07T16:00:55.189Z"
   },
   {
    "duration": 2938,
    "start_time": "2023-03-07T16:00:55.336Z"
   },
   {
    "duration": 5,
    "start_time": "2023-03-07T16:00:58.275Z"
   },
   {
    "duration": 1084601,
    "start_time": "2023-03-07T16:00:58.282Z"
   },
   {
    "duration": 7,
    "start_time": "2023-03-07T16:19:02.885Z"
   },
   {
    "duration": 46,
    "start_time": "2023-03-07T16:19:02.895Z"
   },
   {
    "duration": 14,
    "start_time": "2023-03-07T16:19:02.943Z"
   },
   {
    "duration": 8,
    "start_time": "2023-03-07T16:19:02.959Z"
   },
   {
    "duration": 660514,
    "start_time": "2023-03-07T16:19:02.969Z"
   },
   {
    "duration": 10,
    "start_time": "2023-03-07T16:30:03.485Z"
   },
   {
    "duration": 6769,
    "start_time": "2023-03-07T16:30:03.497Z"
   },
   {
    "duration": 358,
    "start_time": "2023-03-07T16:30:10.268Z"
   },
   {
    "duration": 0,
    "start_time": "2023-03-07T16:30:10.628Z"
   },
   {
    "duration": 0,
    "start_time": "2023-03-07T16:30:10.630Z"
   },
   {
    "duration": 0,
    "start_time": "2023-03-07T16:30:10.631Z"
   },
   {
    "duration": 7400,
    "start_time": "2023-03-07T16:32:04.144Z"
   },
   {
    "duration": 6,
    "start_time": "2023-03-07T16:41:09.375Z"
   },
   {
    "duration": 344,
    "start_time": "2023-03-07T16:41:13.875Z"
   },
   {
    "duration": 10,
    "start_time": "2023-03-07T16:41:33.630Z"
   },
   {
    "duration": 2904,
    "start_time": "2023-03-07T16:41:33.642Z"
   },
   {
    "duration": 9,
    "start_time": "2023-03-07T16:41:36.548Z"
   },
   {
    "duration": 221,
    "start_time": "2023-03-07T16:41:36.559Z"
   },
   {
    "duration": 122,
    "start_time": "2023-03-07T16:41:36.781Z"
   },
   {
    "duration": 2623,
    "start_time": "2023-03-07T16:41:36.904Z"
   },
   {
    "duration": 4,
    "start_time": "2023-03-07T16:41:39.529Z"
   },
   {
    "duration": 1094306,
    "start_time": "2023-03-07T16:41:39.535Z"
   },
   {
    "duration": 11,
    "start_time": "2023-03-07T16:59:53.843Z"
   },
   {
    "duration": 66,
    "start_time": "2023-03-07T16:59:53.858Z"
   },
   {
    "duration": 386,
    "start_time": "2023-03-07T16:59:53.926Z"
   },
   {
    "duration": 21,
    "start_time": "2023-03-07T16:59:54.313Z"
   },
   {
    "duration": 661709,
    "start_time": "2023-03-07T16:59:54.336Z"
   },
   {
    "duration": 9,
    "start_time": "2023-03-07T17:11:10.334Z"
   },
   {
    "duration": 30,
    "start_time": "2023-03-07T17:11:21.000Z"
   },
   {
    "duration": 4,
    "start_time": "2023-03-07T17:11:37.322Z"
   },
   {
    "duration": 6995,
    "start_time": "2023-03-07T17:11:56.369Z"
   },
   {
    "duration": 1106,
    "start_time": "2023-03-07T17:12:05.133Z"
   },
   {
    "duration": 307,
    "start_time": "2023-03-07T17:12:08.898Z"
   },
   {
    "duration": 18,
    "start_time": "2023-03-07T17:12:09.286Z"
   },
   {
    "duration": 296,
    "start_time": "2023-03-07T17:12:09.940Z"
   },
   {
    "duration": 4830,
    "start_time": "2023-03-07T17:13:13.450Z"
   },
   {
    "duration": 2535,
    "start_time": "2023-03-07T17:13:18.282Z"
   },
   {
    "duration": 15,
    "start_time": "2023-03-07T17:13:20.820Z"
   },
   {
    "duration": 270,
    "start_time": "2023-03-07T17:13:20.837Z"
   },
   {
    "duration": 146,
    "start_time": "2023-03-07T17:13:21.109Z"
   },
   {
    "duration": 3153,
    "start_time": "2023-03-07T17:13:21.257Z"
   },
   {
    "duration": 6,
    "start_time": "2023-03-07T17:13:24.412Z"
   },
   {
    "duration": 1104438,
    "start_time": "2023-03-07T17:13:24.420Z"
   },
   {
    "duration": 8,
    "start_time": "2023-03-07T17:31:48.860Z"
   },
   {
    "duration": 39,
    "start_time": "2023-03-07T17:31:48.871Z"
   },
   {
    "duration": 6,
    "start_time": "2023-03-07T17:31:48.912Z"
   },
   {
    "duration": 12,
    "start_time": "2023-03-07T17:31:48.919Z"
   },
   {
    "duration": 465610,
    "start_time": "2023-03-07T17:31:48.933Z"
   },
   {
    "duration": 0,
    "start_time": "2023-03-07T17:39:34.545Z"
   },
   {
    "duration": 0,
    "start_time": "2023-03-07T17:39:34.546Z"
   },
   {
    "duration": 0,
    "start_time": "2023-03-07T17:39:34.547Z"
   },
   {
    "duration": 0,
    "start_time": "2023-03-07T17:39:34.548Z"
   },
   {
    "duration": 0,
    "start_time": "2023-03-07T17:39:34.553Z"
   },
   {
    "duration": 0,
    "start_time": "2023-03-07T17:39:34.555Z"
   },
   {
    "duration": 0,
    "start_time": "2023-03-07T17:39:34.556Z"
   },
   {
    "duration": 653741,
    "start_time": "2023-03-07T17:40:07.751Z"
   },
   {
    "duration": 9,
    "start_time": "2023-03-07T17:51:01.494Z"
   },
   {
    "duration": 51,
    "start_time": "2023-03-07T17:51:01.505Z"
   },
   {
    "duration": 6825,
    "start_time": "2023-03-07T17:51:01.558Z"
   },
   {
    "duration": 1133,
    "start_time": "2023-03-07T17:51:08.386Z"
   },
   {
    "duration": 309,
    "start_time": "2023-03-07T17:51:09.521Z"
   },
   {
    "duration": 29,
    "start_time": "2023-03-07T17:51:09.831Z"
   },
   {
    "duration": 291,
    "start_time": "2023-03-07T17:51:09.862Z"
   },
   {
    "duration": 75,
    "start_time": "2023-03-08T10:01:10.727Z"
   }
  ],
  "kernelspec": {
   "display_name": "Python 3 (ipykernel)",
   "language": "python",
   "name": "python3"
  },
  "language_info": {
   "codemirror_mode": {
    "name": "ipython",
    "version": 3
   },
   "file_extension": ".py",
   "mimetype": "text/x-python",
   "name": "python",
   "nbconvert_exporter": "python",
   "pygments_lexer": "ipython3",
   "version": "3.11.5"
  },
  "toc": {
   "base_numbering": 1,
   "nav_menu": {},
   "number_sections": true,
   "sideBar": true,
   "skip_h1_title": true,
   "title_cell": "Содержание",
   "title_sidebar": "Contents",
   "toc_cell": true,
   "toc_position": {
    "height": "calc(100% - 180px)",
    "left": "10px",
    "top": "150px",
    "width": "302.391px"
   },
   "toc_section_display": true,
   "toc_window_display": true
  }
 },
 "nbformat": 4,
 "nbformat_minor": 2
}
